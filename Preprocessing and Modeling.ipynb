{
 "cells": [
  {
   "cell_type": "code",
   "execution_count": 1,
   "id": "94bd57db",
   "metadata": {},
   "outputs": [],
   "source": [
    "import pandas as pd\n",
    "import matplotlib.pyplot as plt\n",
    "import seaborn as sns\n",
    "import numpy as np\n",
    "\n",
    "import sklearn.metrics as metrics\n",
    "\n",
    "from sklearn.dummy import DummyRegressor\n",
    "\n",
    "\n",
    "from sklearn.linear_model import LinearRegression, LassoCV, RidgeCV, Ridge\n",
    "from sklearn.model_selection import train_test_split, cross_val_score\n",
    "from sklearn.metrics import mean_squared_error\n",
    "from sklearn.preprocessing import StandardScaler\n",
    "\n",
    "from sklearn.metrics import (mean_squared_error, r2_score, confusion_matrix,\n",
    "                             ConfusionMatrixDisplay, classification_report)\n",
    "from sklearn.model_selection import (train_test_split, \n",
    "                                     GridSearchCV)\n",
    "from sklearn.dummy import DummyRegressor, DummyClassifier\n",
    "from sklearn.tree import (DecisionTreeRegressor, plot_tree,\n",
    "                          export_text)\n",
    "\n",
    "\n",
    "from sklearn.ensemble import RandomForestRegressor, ExtraTreesRegressor"
   ]
  },
  {
   "cell_type": "code",
   "execution_count": 2,
   "id": "31220635",
   "metadata": {},
   "outputs": [],
   "source": [
    "df = pd.read_csv('./data/Final_dataset_Cleaned.csv')"
   ]
  },
  {
   "cell_type": "code",
   "execution_count": 3,
   "id": "29496a7f",
   "metadata": {},
   "outputs": [],
   "source": [
    "df = df.drop(['Unnamed: 0'], axis =1)"
   ]
  },
  {
   "cell_type": "code",
   "execution_count": 4,
   "id": "e8c1e499",
   "metadata": {
    "scrolled": true
   },
   "outputs": [
    {
     "data": {
      "text/html": [
       "<div>\n",
       "<style scoped>\n",
       "    .dataframe tbody tr th:only-of-type {\n",
       "        vertical-align: middle;\n",
       "    }\n",
       "\n",
       "    .dataframe tbody tr th {\n",
       "        vertical-align: top;\n",
       "    }\n",
       "\n",
       "    .dataframe thead th {\n",
       "        text-align: right;\n",
       "    }\n",
       "</style>\n",
       "<table border=\"1\" class=\"dataframe\">\n",
       "  <thead>\n",
       "    <tr style=\"text-align: right;\">\n",
       "      <th></th>\n",
       "      <th>SEASON</th>\n",
       "      <th>PLAYER_ID</th>\n",
       "      <th>FIRST_NAME</th>\n",
       "      <th>LAST_NAME</th>\n",
       "      <th>PLAYER_NAME</th>\n",
       "      <th>POSITION</th>\n",
       "      <th>HEIGHT_W_SHOES</th>\n",
       "      <th>WEIGHT</th>\n",
       "      <th>WINGSPAN</th>\n",
       "      <th>STANDING_REACH</th>\n",
       "      <th>BODY_FAT_PCT</th>\n",
       "      <th>HAND_LENGTH</th>\n",
       "      <th>HAND_WIDTH</th>\n",
       "      <th>STANDING_VERTICAL_LEAP</th>\n",
       "      <th>MAX_VERTICAL_LEAP</th>\n",
       "      <th>LANE_AGILITY_TIME</th>\n",
       "      <th>College WS</th>\n",
       "    </tr>\n",
       "  </thead>\n",
       "  <tbody>\n",
       "    <tr>\n",
       "      <th>0</th>\n",
       "      <td>2000</td>\n",
       "      <td>2124</td>\n",
       "      <td>malik</td>\n",
       "      <td>allen</td>\n",
       "      <td>Malik Allen</td>\n",
       "      <td>PF-C</td>\n",
       "      <td>82.118103</td>\n",
       "      <td>271.0</td>\n",
       "      <td>86.5</td>\n",
       "      <td>109.0</td>\n",
       "      <td>9.297541</td>\n",
       "      <td>9.235294</td>\n",
       "      <td>9.875000</td>\n",
       "      <td>25.500000</td>\n",
       "      <td>29.0</td>\n",
       "      <td>11.83</td>\n",
       "      <td>4.2</td>\n",
       "    </tr>\n",
       "    <tr>\n",
       "      <th>1</th>\n",
       "      <td>2000</td>\n",
       "      <td>12019</td>\n",
       "      <td>harold</td>\n",
       "      <td>arceneaux</td>\n",
       "      <td>Harold Arceneaux</td>\n",
       "      <td>SG-SF</td>\n",
       "      <td>78.064583</td>\n",
       "      <td>219.0</td>\n",
       "      <td>80.5</td>\n",
       "      <td>103.0</td>\n",
       "      <td>6.684507</td>\n",
       "      <td>8.636905</td>\n",
       "      <td>9.363095</td>\n",
       "      <td>29.761905</td>\n",
       "      <td>29.0</td>\n",
       "      <td>13.80</td>\n",
       "      <td>5.6</td>\n",
       "    </tr>\n",
       "    <tr>\n",
       "      <th>2</th>\n",
       "      <td>2000</td>\n",
       "      <td>12020</td>\n",
       "      <td>lamont</td>\n",
       "      <td>barnes</td>\n",
       "      <td>Lamont Barnes</td>\n",
       "      <td>PF-C</td>\n",
       "      <td>82.118103</td>\n",
       "      <td>235.5</td>\n",
       "      <td>87.5</td>\n",
       "      <td>108.0</td>\n",
       "      <td>9.297541</td>\n",
       "      <td>9.235294</td>\n",
       "      <td>9.875000</td>\n",
       "      <td>28.000000</td>\n",
       "      <td>29.5</td>\n",
       "      <td>12.30</td>\n",
       "      <td>5.2</td>\n",
       "    </tr>\n",
       "    <tr>\n",
       "      <th>3</th>\n",
       "      <td>2000</td>\n",
       "      <td>12131</td>\n",
       "      <td>mario</td>\n",
       "      <td>bland</td>\n",
       "      <td>Mario Bland</td>\n",
       "      <td>PF</td>\n",
       "      <td>81.066972</td>\n",
       "      <td>287.0</td>\n",
       "      <td>84.0</td>\n",
       "      <td>103.0</td>\n",
       "      <td>8.297265</td>\n",
       "      <td>8.996644</td>\n",
       "      <td>9.674497</td>\n",
       "      <td>27.000000</td>\n",
       "      <td>31.0</td>\n",
       "      <td>13.04</td>\n",
       "      <td>4.2</td>\n",
       "    </tr>\n",
       "    <tr>\n",
       "      <th>4</th>\n",
       "      <td>2000</td>\n",
       "      <td>2049</td>\n",
       "      <td>speedy</td>\n",
       "      <td>claxton</td>\n",
       "      <td>Speedy Claxton</td>\n",
       "      <td>PG</td>\n",
       "      <td>74.130693</td>\n",
       "      <td>166.0</td>\n",
       "      <td>72.0</td>\n",
       "      <td>94.5</td>\n",
       "      <td>6.420144</td>\n",
       "      <td>8.291353</td>\n",
       "      <td>8.971805</td>\n",
       "      <td>36.000000</td>\n",
       "      <td>42.5</td>\n",
       "      <td>10.48</td>\n",
       "      <td>7.0</td>\n",
       "    </tr>\n",
       "  </tbody>\n",
       "</table>\n",
       "</div>"
      ],
      "text/plain": [
       "   SEASON  PLAYER_ID FIRST_NAME  LAST_NAME       PLAYER_NAME POSITION  \\\n",
       "0    2000       2124      malik      allen       Malik Allen     PF-C   \n",
       "1    2000      12019     harold  arceneaux  Harold Arceneaux    SG-SF   \n",
       "2    2000      12020     lamont     barnes     Lamont Barnes     PF-C   \n",
       "3    2000      12131      mario      bland       Mario Bland       PF   \n",
       "4    2000       2049     speedy    claxton    Speedy Claxton       PG   \n",
       "\n",
       "   HEIGHT_W_SHOES  WEIGHT  WINGSPAN  STANDING_REACH  BODY_FAT_PCT  \\\n",
       "0       82.118103   271.0      86.5           109.0      9.297541   \n",
       "1       78.064583   219.0      80.5           103.0      6.684507   \n",
       "2       82.118103   235.5      87.5           108.0      9.297541   \n",
       "3       81.066972   287.0      84.0           103.0      8.297265   \n",
       "4       74.130693   166.0      72.0            94.5      6.420144   \n",
       "\n",
       "   HAND_LENGTH  HAND_WIDTH  STANDING_VERTICAL_LEAP  MAX_VERTICAL_LEAP  \\\n",
       "0     9.235294    9.875000               25.500000               29.0   \n",
       "1     8.636905    9.363095               29.761905               29.0   \n",
       "2     9.235294    9.875000               28.000000               29.5   \n",
       "3     8.996644    9.674497               27.000000               31.0   \n",
       "4     8.291353    8.971805               36.000000               42.5   \n",
       "\n",
       "   LANE_AGILITY_TIME  College WS  \n",
       "0              11.83         4.2  \n",
       "1              13.80         5.6  \n",
       "2              12.30         5.2  \n",
       "3              13.04         4.2  \n",
       "4              10.48         7.0  "
      ]
     },
     "execution_count": 4,
     "metadata": {},
     "output_type": "execute_result"
    }
   ],
   "source": [
    "df.head()"
   ]
  },
  {
   "cell_type": "code",
   "execution_count": 5,
   "id": "38151fc4",
   "metadata": {},
   "outputs": [
    {
     "data": {
      "text/plain": [
       "SEASON                      int64\n",
       "PLAYER_ID                   int64\n",
       "FIRST_NAME                 object\n",
       "LAST_NAME                  object\n",
       "PLAYER_NAME                object\n",
       "POSITION                   object\n",
       "HEIGHT_W_SHOES            float64\n",
       "WEIGHT                    float64\n",
       "WINGSPAN                  float64\n",
       "STANDING_REACH            float64\n",
       "BODY_FAT_PCT              float64\n",
       "HAND_LENGTH               float64\n",
       "HAND_WIDTH                float64\n",
       "STANDING_VERTICAL_LEAP    float64\n",
       "MAX_VERTICAL_LEAP         float64\n",
       "LANE_AGILITY_TIME         float64\n",
       "College WS                float64\n",
       "dtype: object"
      ]
     },
     "execution_count": 5,
     "metadata": {},
     "output_type": "execute_result"
    }
   ],
   "source": [
    "df.dtypes"
   ]
  },
  {
   "cell_type": "code",
   "execution_count": 6,
   "id": "05b30198",
   "metadata": {},
   "outputs": [
    {
     "data": {
      "text/plain": [
       "21726"
      ]
     },
     "execution_count": 6,
     "metadata": {},
     "output_type": "execute_result"
    }
   ],
   "source": [
    "df.size"
   ]
  },
  {
   "cell_type": "code",
   "execution_count": 7,
   "id": "e4b860ce",
   "metadata": {},
   "outputs": [
    {
     "data": {
      "text/plain": [
       "(1278, 17)"
      ]
     },
     "execution_count": 7,
     "metadata": {},
     "output_type": "execute_result"
    }
   ],
   "source": [
    "df.shape"
   ]
  },
  {
   "cell_type": "code",
   "execution_count": 8,
   "id": "6224bf93",
   "metadata": {},
   "outputs": [
    {
     "data": {
      "text/html": [
       "<div>\n",
       "<style scoped>\n",
       "    .dataframe tbody tr th:only-of-type {\n",
       "        vertical-align: middle;\n",
       "    }\n",
       "\n",
       "    .dataframe tbody tr th {\n",
       "        vertical-align: top;\n",
       "    }\n",
       "\n",
       "    .dataframe thead th {\n",
       "        text-align: right;\n",
       "    }\n",
       "</style>\n",
       "<table border=\"1\" class=\"dataframe\">\n",
       "  <thead>\n",
       "    <tr style=\"text-align: right;\">\n",
       "      <th></th>\n",
       "      <th>SEASON</th>\n",
       "      <th>PLAYER_ID</th>\n",
       "      <th>HEIGHT_W_SHOES</th>\n",
       "      <th>WEIGHT</th>\n",
       "      <th>WINGSPAN</th>\n",
       "      <th>STANDING_REACH</th>\n",
       "      <th>BODY_FAT_PCT</th>\n",
       "      <th>HAND_LENGTH</th>\n",
       "      <th>HAND_WIDTH</th>\n",
       "      <th>STANDING_VERTICAL_LEAP</th>\n",
       "      <th>MAX_VERTICAL_LEAP</th>\n",
       "      <th>LANE_AGILITY_TIME</th>\n",
       "      <th>College WS</th>\n",
       "    </tr>\n",
       "  </thead>\n",
       "  <tbody>\n",
       "    <tr>\n",
       "      <th>count</th>\n",
       "      <td>1278.000000</td>\n",
       "      <td>1.278000e+03</td>\n",
       "      <td>1278.000000</td>\n",
       "      <td>1278.000000</td>\n",
       "      <td>1278.000000</td>\n",
       "      <td>1278.000000</td>\n",
       "      <td>1278.000000</td>\n",
       "      <td>1278.000000</td>\n",
       "      <td>1278.000000</td>\n",
       "      <td>1278.000000</td>\n",
       "      <td>1278.000000</td>\n",
       "      <td>1278.000000</td>\n",
       "      <td>1278.000000</td>\n",
       "    </tr>\n",
       "    <tr>\n",
       "      <th>mean</th>\n",
       "      <td>2010.325509</td>\n",
       "      <td>2.116806e+06</td>\n",
       "      <td>78.748612</td>\n",
       "      <td>215.288654</td>\n",
       "      <td>82.272574</td>\n",
       "      <td>103.281690</td>\n",
       "      <td>7.509613</td>\n",
       "      <td>8.720847</td>\n",
       "      <td>9.423257</td>\n",
       "      <td>29.309722</td>\n",
       "      <td>34.568884</td>\n",
       "      <td>11.410234</td>\n",
       "      <td>4.519484</td>\n",
       "    </tr>\n",
       "    <tr>\n",
       "      <th>std</th>\n",
       "      <td>6.582444</td>\n",
       "      <td>5.489703e+07</td>\n",
       "      <td>3.213590</td>\n",
       "      <td>26.053283</td>\n",
       "      <td>3.999241</td>\n",
       "      <td>4.883247</td>\n",
       "      <td>2.677729</td>\n",
       "      <td>0.395391</td>\n",
       "      <td>0.555984</td>\n",
       "      <td>2.927219</td>\n",
       "      <td>3.515654</td>\n",
       "      <td>0.561972</td>\n",
       "      <td>2.003299</td>\n",
       "    </tr>\n",
       "    <tr>\n",
       "      <th>min</th>\n",
       "      <td>2000.000000</td>\n",
       "      <td>-1.000000e+00</td>\n",
       "      <td>69.000000</td>\n",
       "      <td>149.200000</td>\n",
       "      <td>70.000000</td>\n",
       "      <td>88.500000</td>\n",
       "      <td>2.600000</td>\n",
       "      <td>7.500000</td>\n",
       "      <td>7.000000</td>\n",
       "      <td>20.500000</td>\n",
       "      <td>21.000000</td>\n",
       "      <td>9.650000</td>\n",
       "      <td>-0.300000</td>\n",
       "    </tr>\n",
       "    <tr>\n",
       "      <th>25%</th>\n",
       "      <td>2005.000000</td>\n",
       "      <td>1.218525e+04</td>\n",
       "      <td>76.500000</td>\n",
       "      <td>196.000000</td>\n",
       "      <td>79.500000</td>\n",
       "      <td>100.000000</td>\n",
       "      <td>5.612500</td>\n",
       "      <td>8.500000</td>\n",
       "      <td>9.000000</td>\n",
       "      <td>27.500000</td>\n",
       "      <td>32.000000</td>\n",
       "      <td>11.030000</td>\n",
       "      <td>3.400000</td>\n",
       "    </tr>\n",
       "    <tr>\n",
       "      <th>50%</th>\n",
       "      <td>2010.000000</td>\n",
       "      <td>2.023245e+05</td>\n",
       "      <td>79.000000</td>\n",
       "      <td>213.700000</td>\n",
       "      <td>82.500000</td>\n",
       "      <td>103.500000</td>\n",
       "      <td>6.800000</td>\n",
       "      <td>8.750000</td>\n",
       "      <td>9.439904</td>\n",
       "      <td>29.000000</td>\n",
       "      <td>34.500000</td>\n",
       "      <td>11.350000</td>\n",
       "      <td>4.600000</td>\n",
       "    </tr>\n",
       "    <tr>\n",
       "      <th>75%</th>\n",
       "      <td>2016.000000</td>\n",
       "      <td>1.627775e+06</td>\n",
       "      <td>81.066972</td>\n",
       "      <td>233.950000</td>\n",
       "      <td>85.000000</td>\n",
       "      <td>107.000000</td>\n",
       "      <td>8.627381</td>\n",
       "      <td>9.000000</td>\n",
       "      <td>9.750000</td>\n",
       "      <td>31.000000</td>\n",
       "      <td>36.500000</td>\n",
       "      <td>11.740000</td>\n",
       "      <td>5.700000</td>\n",
       "    </tr>\n",
       "    <tr>\n",
       "      <th>max</th>\n",
       "      <td>2022.000000</td>\n",
       "      <td>1.962937e+09</td>\n",
       "      <td>91.000000</td>\n",
       "      <td>334.000000</td>\n",
       "      <td>98.250000</td>\n",
       "      <td>122.500000</td>\n",
       "      <td>23.100000</td>\n",
       "      <td>10.500000</td>\n",
       "      <td>11.750000</td>\n",
       "      <td>41.500000</td>\n",
       "      <td>48.000000</td>\n",
       "      <td>13.800000</td>\n",
       "      <td>15.200000</td>\n",
       "    </tr>\n",
       "  </tbody>\n",
       "</table>\n",
       "</div>"
      ],
      "text/plain": [
       "            SEASON     PLAYER_ID  HEIGHT_W_SHOES       WEIGHT     WINGSPAN  \\\n",
       "count  1278.000000  1.278000e+03     1278.000000  1278.000000  1278.000000   \n",
       "mean   2010.325509  2.116806e+06       78.748612   215.288654    82.272574   \n",
       "std       6.582444  5.489703e+07        3.213590    26.053283     3.999241   \n",
       "min    2000.000000 -1.000000e+00       69.000000   149.200000    70.000000   \n",
       "25%    2005.000000  1.218525e+04       76.500000   196.000000    79.500000   \n",
       "50%    2010.000000  2.023245e+05       79.000000   213.700000    82.500000   \n",
       "75%    2016.000000  1.627775e+06       81.066972   233.950000    85.000000   \n",
       "max    2022.000000  1.962937e+09       91.000000   334.000000    98.250000   \n",
       "\n",
       "       STANDING_REACH  BODY_FAT_PCT  HAND_LENGTH   HAND_WIDTH  \\\n",
       "count     1278.000000   1278.000000  1278.000000  1278.000000   \n",
       "mean       103.281690      7.509613     8.720847     9.423257   \n",
       "std          4.883247      2.677729     0.395391     0.555984   \n",
       "min         88.500000      2.600000     7.500000     7.000000   \n",
       "25%        100.000000      5.612500     8.500000     9.000000   \n",
       "50%        103.500000      6.800000     8.750000     9.439904   \n",
       "75%        107.000000      8.627381     9.000000     9.750000   \n",
       "max        122.500000     23.100000    10.500000    11.750000   \n",
       "\n",
       "       STANDING_VERTICAL_LEAP  MAX_VERTICAL_LEAP  LANE_AGILITY_TIME  \\\n",
       "count             1278.000000        1278.000000        1278.000000   \n",
       "mean                29.309722          34.568884          11.410234   \n",
       "std                  2.927219           3.515654           0.561972   \n",
       "min                 20.500000          21.000000           9.650000   \n",
       "25%                 27.500000          32.000000          11.030000   \n",
       "50%                 29.000000          34.500000          11.350000   \n",
       "75%                 31.000000          36.500000          11.740000   \n",
       "max                 41.500000          48.000000          13.800000   \n",
       "\n",
       "        College WS  \n",
       "count  1278.000000  \n",
       "mean      4.519484  \n",
       "std       2.003299  \n",
       "min      -0.300000  \n",
       "25%       3.400000  \n",
       "50%       4.600000  \n",
       "75%       5.700000  \n",
       "max      15.200000  "
      ]
     },
     "execution_count": 8,
     "metadata": {},
     "output_type": "execute_result"
    }
   ],
   "source": [
    "# Look at dataset to gain better understanding of values\n",
    "\n",
    "df.describe()"
   ]
  },
  {
   "cell_type": "code",
   "execution_count": 9,
   "id": "81b19bf8",
   "metadata": {},
   "outputs": [
    {
     "name": "stdout",
     "output_type": "stream",
     "text": [
      "Average: 4.52 College Win/Shares\n"
     ]
    }
   ],
   "source": [
    "# Shows the Average College Win/Shares for all of dataset\n",
    "\n",
    "print('Average: {:.2f} College Win/Shares'.format(np.mean(df['College WS'])))"
   ]
  },
  {
   "cell_type": "markdown",
   "id": "04677798",
   "metadata": {},
   "source": [
    "# Model testing 1:"
   ]
  },
  {
   "cell_type": "code",
   "execution_count": 10,
   "id": "41b1d533",
   "metadata": {},
   "outputs": [],
   "source": [
    "# My target variable is College WS\n",
    "# The rest of my columns minus: season & player id are the features I am including\n",
    "\n",
    "y = df['College WS']\n",
    "X = df[['HEIGHT_W_SHOES', 'WEIGHT', 'WINGSPAN', 'STANDING_REACH', 'BODY_FAT_PCT',\n",
    "       'HAND_LENGTH', 'HAND_WIDTH', 'STANDING_VERTICAL_LEAP',\n",
    "       'MAX_VERTICAL_LEAP', 'LANE_AGILITY_TIME']]"
   ]
  },
  {
   "cell_type": "code",
   "execution_count": 11,
   "id": "757cfed3",
   "metadata": {},
   "outputs": [],
   "source": [
    "def get_linear_regression(X, y):\n",
    "    X_train, X_test, y_train, y_test = train_test_split(X, y, train_size=0.2, random_state=42)\n",
    "    lr = LinearRegression()\n",
    "    lr_fit_train_test = lr.fit(X_train, y_train)\n",
    "    \n",
    "    #Baseline Score\n",
    "    dummy_reg = DummyRegressor(strategy='mean')\n",
    "    # fit it on the training set\n",
    "    dummy_reg.fit(X_train, y_train)\n",
    "    # make predictions on the test set\n",
    "    y_pred = dummy_reg.predict(X_test)\n",
    "\n",
    "    # calculate root mean squared error\n",
    "    mse = mean_squared_error(y_test, y_pred)\n",
    "    rmse = np.sqrt(mse)\n",
    "    print(\"Dummy Baseline RMSE:\", rmse)\n",
    "    \n",
    "    #Fit\n",
    "    lr_fit = lr.fit(X, y)\n",
    "    lr_score = lr.score(X, y)\n",
    "    cross_val_xy = cross_val_score(lr, X, y)\n",
    "    rmse_lr = mean_squared_error(y_true=y, y_pred=lr.predict(X), squared=False)\n",
    "    \n",
    "    #Train-Test Split\n",
    "    cross_val = cross_val_score(lr, X_train, y_train)\n",
    "    r2_train = lr.score(X_train, y_train)\n",
    "    r2_test = lr.score(X_test, y_test)\n",
    "    \n",
    "    rmse_train = mean_squared_error(y_true=y_train, y_pred=lr.predict(X_train), squared=False)\n",
    "    rmse_test = mean_squared_error(y_true=y_test, y_pred=lr.predict(X_test), squared=False)\n",
    "    \n",
    "    # Prediction and Residuals\n",
    "    lr_preds = lr.predict(X_test)\n",
    "    lr_residuals = lr_preds - y_test\n",
    "   \n",
    "    # Residuals Plot\n",
    "    plt.scatter(lr_residuals.index, lr_residuals)\n",
    "    plt.title(\"Residuals\", fontsize = 15)\n",
    "    plt.ylabel(\"Actual Values\", fontsize = 15)\n",
    "    plt.xlabel(\"Predicted Values\", fontsize = 15)\n",
    "    \n",
    "    print(f'Linear Regression R^2: {lr_score}')\n",
    "    print(f'Linear Regression Cross Validation: {cross_val_xy}')\n",
    "    print('')\n",
    "    print(f'Linear Regression Train Cross Validation: {cross_val}')\n",
    "    print(f'Linear Regression Train R^2: {r2_train}')\n",
    "    print(f'Linear Regression Test R^2: {r2_test}')\n",
    "    print(f'Root Mean Squared Error Train: {rmse_train}')\n",
    "    print(f'Root Mean Squared Error Test: {rmse_test}')"
   ]
  },
  {
   "cell_type": "code",
   "execution_count": 12,
   "id": "c6b165b0",
   "metadata": {},
   "outputs": [
    {
     "name": "stdout",
     "output_type": "stream",
     "text": [
      "Dummy Baseline RMSE: 1.9740470608558527\n",
      "Linear Regression R^2: 0.026389526054644286\n",
      "Linear Regression Cross Validation: [-0.0583718  -0.04918891 -0.06725042 -0.05243688 -0.03346143]\n",
      "\n",
      "Linear Regression Train Cross Validation: [-0.4370809  -0.01429509  0.01120612 -0.22830468  0.01345392]\n",
      "Linear Regression Train R^2: 0.013370097089625776\n",
      "Linear Regression Test R^2: 0.030062328591357157\n",
      "Root Mean Squared Error Train: 2.099431733840268\n",
      "Root Mean Squared Error Test: 1.9439055916645125\n"
     ]
    },
    {
     "data": {
      "image/png": "[encoded data removed]",
      "text/plain": [
       "<Figure size 640x480 with 1 Axes>"
      ]
     },
     "metadata": {},
     "output_type": "display_data"
    }
   ],
   "source": [
    "get_linear_regression(X,y)"
   ]
  },
  {
   "cell_type": "markdown",
   "id": "01d406c3",
   "metadata": {},
   "source": [
    "Looking at my first model of linear regresssion I see that my test RMSE is lower than the baseline model and \n",
    "is lower than the training RMSE.  These are both good things.  Looking at my residual plot, the difference \n",
    "between observed and predicted responses, we can see that the points are very dispersed.  \n",
    "\n",
    "Result:\n",
    "    \n",
    "Training RMSE: 2.099\n",
    "\n",
    "Testing RMSE: 1.943"
   ]
  },
  {
   "cell_type": "code",
   "execution_count": 13,
   "id": "fe220723",
   "metadata": {},
   "outputs": [],
   "source": [
    "def get_ridge_regression(X, y):\n",
    "    X_train, X_test, y_train, y_test = train_test_split(X,y,test_size = 0.2,random_state = 42)\n",
    "    ss = StandardScaler()\n",
    "    ss.fit(X_train)\n",
    "    \n",
    "    X_train_ss = ss.transform(X_train)\n",
    "    X_test_ss = ss.transform(X_test)\n",
    "    \n",
    "    ridge = RidgeCV(alphas=np.linspace(0.1, 10, 100))\n",
    "    ridge.fit(X_train_ss, y_train)                \n",
    "                    \n",
    "    coefficients = ridge.coef_\n",
    "    ridge_train_score = ridge.score(X_train_ss, y_train)      \n",
    "    ridge_test_score = ridge.score(X_test_ss, y_test)\n",
    "    \n",
    "    ridge_preds = ridge.predict(X_test_ss)\n",
    "    ridge_resid = ridge_preds- y_test\n",
    "    \n",
    "    plt.scatter(ridge_resid.index, ridge_resid)\n",
    "    plt.ylabel(\"Residual\")\n",
    "    plt.xlabel(\"Predicted Values\");\n",
    "    \n",
    "    rmse_train_ridge = mean_squared_error(y_true=y_train, y_pred=ridge.predict(X_train_ss), squared=False)\n",
    "    rmse_test_ridge = mean_squared_error(y_true=y_test, y_pred=ridge.predict(X_test_ss), squared=False)                \n",
    "    \n",
    "    print('The Ridge Coefficients are: ', coefficients)\n",
    "    print('The train R^2 score is: ', ridge_train_score)\n",
    "    print('The test R^2 score is: ', ridge_test_score)\n",
    "    print('The train RMSE score is ', rmse_train_ridge)   \n",
    "    print('The test RMSE score is ', rmse_test_ridge)"
   ]
  },
  {
   "cell_type": "code",
   "execution_count": 14,
   "id": "eb91c637",
   "metadata": {},
   "outputs": [
    {
     "name": "stdout",
     "output_type": "stream",
     "text": [
      "The Ridge Coefficients are:  [-0.03972829  0.43685472 -0.18597324 -0.04465815 -0.23808559 -0.04026391\n",
      "  0.0172569   0.12699661 -0.26248176 -0.20449758]\n",
      "The train R^2 score is:  0.02806021081400889\n",
      "The test R^2 score is:  0.011910910620772097\n",
      "The train RMSE score is  1.9694526887580583\n",
      "The test RMSE score is  2.008652196409351\n"
     ]
    },
    {
     "data": {
      "image/png": "[encoded data removed]",
      "text/plain": [
       "<Figure size 640x480 with 1 Axes>"
      ]
     },
     "metadata": {},
     "output_type": "display_data"
    }
   ],
   "source": [
    "get_ridge_regression(X, y)"
   ]
  },
  {
   "cell_type": "markdown",
   "id": "4c40942f",
   "metadata": {},
   "source": [
    "Next I did a Ridge Regression model, a method of estimating the coeffiecients  by reducing the standard error.  Here the\n",
    "loss function is modified to reduce complexity in the model.  However based on results the test RMSE is now greater\n",
    "than the testing RMSE (overfit).  \n",
    "\n",
    "Result:\n",
    "    \n",
    "Training RMSE: 1.969\n",
    "    \n",
    "Testing RMSE: 2.008"
   ]
  },
  {
   "cell_type": "code",
   "execution_count": 15,
   "id": "ddbfa5fa",
   "metadata": {},
   "outputs": [],
   "source": [
    "def get_lasso_regression(X, y):\n",
    "    X_train, X_test, y_train, y_test = train_test_split(X,y,test_size = 0.2,random_state = 42)\n",
    "    ss = StandardScaler()\n",
    "    ss.fit(X_train)\n",
    "    \n",
    "    X_train_ss = ss.transform(X_train)\n",
    "    X_test_ss = ss.transform(X_test)\n",
    "    \n",
    "    lasso = LassoCV(n_alphas= 200)\n",
    "    lasso.fit(X_train_ss, y_train)\n",
    "    \n",
    "    alpha = lasso.alpha_\n",
    "                    \n",
    "    r2_train_lasso = lasso.score(X_train_ss, y_train)\n",
    "    r2_test_lasso = lasso.score(X_test_ss, y_test)\n",
    "    \n",
    "    \n",
    "    lasso_preds = lasso.predict(X_test_ss)\n",
    "    lasso_resid = lasso_preds- y_test\n",
    "    \n",
    "    plt.scatter(lasso_resid.index, lasso_resid)\n",
    "    plt.ylabel(\"Residual\")\n",
    "    plt.xlabel(\"Predicted Values\");\n",
    "    \n",
    "    rmse_train_lasso = mean_squared_error(y_true=y_train, y_pred=lasso.predict(X_train_ss), squared=False)\n",
    "    rmse_test_lasso = mean_squared_error(y_true=y_test, y_pred=lasso.predict(X_test_ss), squared=False)                \n",
    "    \n",
    "    print('The Alpha for Lasso is: ', alpha)\n",
    "    print('The train R^2 score is: ', r2_train_lasso)\n",
    "    print('The test R^2 score is: ', r2_test_lasso)\n",
    "    print('The train RMSE score is ', rmse_train_lasso)   \n",
    "    print('The test RMSE score is ', rmse_test_lasso)"
   ]
  },
  {
   "cell_type": "code",
   "execution_count": 16,
   "id": "3766add3",
   "metadata": {},
   "outputs": [
    {
     "name": "stdout",
     "output_type": "stream",
     "text": [
      "The Alpha for Lasso is:  0.023079778939717983\n",
      "The train R^2 score is:  0.0241100756398136\n",
      "The test R^2 score is:  0.014719473194056198\n",
      "The train RMSE score is  1.9734507326832655\n",
      "The test RMSE score is  2.005795450002293\n"
     ]
    },
    {
     "data": {
      "image/png": "[encoded data removed]",
      "text/plain": [
       "<Figure size 640x480 with 1 Axes>"
      ]
     },
     "metadata": {},
     "output_type": "display_data"
    }
   ],
   "source": [
    "get_lasso_regression(X, y)\n"
   ]
  },
  {
   "cell_type": "markdown",
   "id": "1ca35a2e",
   "metadata": {},
   "source": [
    "Next I used Lasso regression to see if it would improve my RMSE.  In Lasso regression, it eliminates\n",
    "variables and features that are not correlated. This can help with better feature selection and accuracy.  However,\n",
    "based on results, it had a worse RMSE than the linear regression. Training RMSE > Testing RMSE and the RMSE is greater.\n",
    "\n",
    "Result:\n",
    "    \n",
    "Training RMSE: 1.973\n",
    "\n",
    "Testing RMSE: 2.005"
   ]
  },
  {
   "cell_type": "markdown",
   "id": "87bc275e",
   "metadata": {},
   "source": [
    "# Model testing 2"
   ]
  },
  {
   "cell_type": "markdown",
   "id": "2f3e7714",
   "metadata": {},
   "source": [
    "#### Changing the X variables to have different variables.  I decided to remove weight, body fat, and lane agility to see how\n",
    "#### the model adjusts"
   ]
  },
  {
   "cell_type": "code",
   "execution_count": 17,
   "id": "ccef591e",
   "metadata": {},
   "outputs": [],
   "source": [
    "mlr = LinearRegression()\n",
    "\n",
    "y = df['College WS']\n",
    "X = df[['HEIGHT_W_SHOES', 'WINGSPAN', 'STANDING_REACH',\n",
    "       'HAND_LENGTH', 'HAND_WIDTH', 'STANDING_VERTICAL_LEAP',\n",
    "       'MAX_VERTICAL_LEAP']]\n",
    "\n",
    "# Removed: weight, body fat pct., lane agility\n",
    "# Altering feature selection to see if it affects model\n",
    "\n",
    "model = mlr.fit(X, y)\n",
    "\n",
    "y_pred = model.predict(X)"
   ]
  },
  {
   "cell_type": "code",
   "execution_count": 18,
   "id": "66a1c306",
   "metadata": {},
   "outputs": [
    {
     "name": "stdout",
     "output_type": "stream",
     "text": [
      "Dummy Baseline RMSE: 1.9740470608558527\n",
      "Linear Regression R^2: 0.006630186198650745\n",
      "Linear Regression Cross Validation: [-0.09608177 -0.07018401 -0.09779806 -0.03667126 -0.05801322]\n",
      "\n",
      "Linear Regression Train Cross Validation: [-0.37725725 -0.0174535  -0.03848663 -0.02920609 -0.01500336]\n",
      "Linear Regression Train R^2: 0.007582900128424552\n",
      "Linear Regression Test R^2: 0.006308350988321387\n",
      "Root Mean Squared Error Train: 2.105579966530989\n",
      "Root Mean Squared Error Test: 1.9675649406695754\n"
     ]
    },
    {
     "data": {
      "image/png": "[encoded data removed]",
      "text/plain": [
       "<Figure size 640x480 with 1 Axes>"
      ]
     },
     "metadata": {},
     "output_type": "display_data"
    }
   ],
   "source": [
    "get_linear_regression(X,y)"
   ]
  },
  {
   "cell_type": "markdown",
   "id": "b4ec0657",
   "metadata": {},
   "source": [
    "Here I changed the features used in model as I thought the column's weight, body fat, and lane agility time would not\n",
    "be key indicators for the target variable.  Based on my results my testing RMSE was less than training RMSE, which is good.\n",
    "However the RMSE are both greater than the previous linear regression model.\n",
    "\n",
    "Results:\n",
    "\n",
    "Training RMSE: 2.105\n",
    "\n",
    "Testing RMSE: 1.967"
   ]
  },
  {
   "cell_type": "code",
   "execution_count": 19,
   "id": "2af91e0d",
   "metadata": {
    "scrolled": true
   },
   "outputs": [
    {
     "name": "stdout",
     "output_type": "stream",
     "text": [
      "The Ridge Coefficients are:  [ 0.06630213 -0.14891782 -0.05609249  0.01882583  0.05086411  0.17789478\n",
      " -0.21526998]\n",
      "The train R^2 score is:  0.005640788491379167\n",
      "The test R^2 score is:  0.005156810512362164\n",
      "The train RMSE score is  1.9920375574685667\n",
      "The test RMSE score is  2.0155055931907166\n"
     ]
    },
    {
     "data": {
      "image/png": "[encoded data removed]",
      "text/plain": [
       "<Figure size 640x480 with 1 Axes>"
      ]
     },
     "metadata": {},
     "output_type": "display_data"
    }
   ],
   "source": [
    "get_ridge_regression(X, y)"
   ]
  },
  {
   "cell_type": "markdown",
   "id": "5abd3c42",
   "metadata": {},
   "source": [
    "Using Ridge Regression on the new feature, I can see that the RMSE has increased compared to the previous ridege model.\n",
    "\n",
    "Results:\n",
    "\n",
    "Training RMSE: 1.992\n",
    "\n",
    "Testing RMSE: 2.0155"
   ]
  },
  {
   "cell_type": "code",
   "execution_count": 20,
   "id": "f02c2941",
   "metadata": {},
   "outputs": [
    {
     "name": "stdout",
     "output_type": "stream",
     "text": [
      "The Alpha for Lasso is:  0.06749807550091988\n",
      "The train R^2 score is:  0.0\n",
      "The test R^2 score is:  -0.001213745290682633\n",
      "The train RMSE score is  1.9976797698801536\n",
      "The test RMSE score is  2.0219485186837156\n"
     ]
    },
    {
     "data": {
      "image/png": "[encoded data removed]",
      "text/plain": [
       "<Figure size 640x480 with 1 Axes>"
      ]
     },
     "metadata": {},
     "output_type": "display_data"
    }
   ],
   "source": [
    "get_lasso_regression(X, y)"
   ]
  },
  {
   "cell_type": "markdown",
   "id": "996c3e75",
   "metadata": {},
   "source": [
    "Again, I used the lasso regression model on the altered featues and saw the results were worse compared to the prevoius \n",
    "Lasso model.\n",
    "\n",
    "Results:\n",
    "    \n",
    "Training RMSE: 1.997\n",
    "    \n",
    "Testing RMSE: 2.021"
   ]
  },
  {
   "cell_type": "code",
   "execution_count": null,
   "id": "85f3364c",
   "metadata": {},
   "outputs": [],
   "source": []
  },
  {
   "cell_type": "code",
   "execution_count": null,
   "id": "88dcaa33",
   "metadata": {},
   "outputs": [],
   "source": []
  },
  {
   "cell_type": "markdown",
   "id": "d755bbfb",
   "metadata": {},
   "source": [
    "# Model 3: Decisoin Tree"
   ]
  },
  {
   "cell_type": "markdown",
   "id": "75041559",
   "metadata": {},
   "source": [
    "Based off the previous models I ran above I decided to use all the columns minus player id and season as the features \n",
    "I will use for this model."
   ]
  },
  {
   "cell_type": "code",
   "execution_count": 21,
   "id": "2cd611d0",
   "metadata": {},
   "outputs": [],
   "source": [
    "y = df['College WS']\n",
    "X = df[['HEIGHT_W_SHOES', 'WEIGHT', 'WINGSPAN', 'STANDING_REACH', 'BODY_FAT_PCT',\n",
    "       'HAND_LENGTH', 'HAND_WIDTH', 'STANDING_VERTICAL_LEAP',\n",
    "       'MAX_VERTICAL_LEAP', 'LANE_AGILITY_TIME']]"
   ]
  },
  {
   "cell_type": "code",
   "execution_count": 22,
   "id": "c4b0d207",
   "metadata": {},
   "outputs": [],
   "source": [
    "# X before y, train before test\n",
    "X_train, X_test, y_train, y_test = \\\n",
    "train_test_split(X, y, random_state=42)"
   ]
  },
  {
   "cell_type": "code",
   "execution_count": 23,
   "id": "6e744a7d",
   "metadata": {},
   "outputs": [
    {
     "data": {
      "text/plain": [
       "((958, 10), (320, 10), (958,), (320,))"
      ]
     },
     "execution_count": 23,
     "metadata": {},
     "output_type": "execute_result"
    }
   ],
   "source": [
    "X_train.shape, X_test.shape, y_train.shape, y_test.shape"
   ]
  },
  {
   "cell_type": "code",
   "execution_count": 24,
   "id": "ad2f4c93",
   "metadata": {},
   "outputs": [
    {
     "data": {
      "text/html": [
       "<style>#sk-container-id-1 {color: black;background-color: white;}#sk-container-id-1 pre{padding: 0;}#sk-container-id-1 div.sk-toggleable {background-color: white;}#sk-container-id-1 label.sk-toggleable__label {cursor: pointer;display: block;width: 100%;margin-bottom: 0;padding: 0.3em;box-sizing: border-box;text-align: center;}#sk-container-id-1 label.sk-toggleable__label-arrow:before {content: \"▸\";float: left;margin-right: 0.25em;color: #696969;}#sk-container-id-1 label.sk-toggleable__label-arrow:hover:before {color: black;}#sk-container-id-1 div.sk-estimator:hover label.sk-toggleable__label-arrow:before {color: black;}#sk-container-id-1 div.sk-toggleable__content {max-height: 0;max-width: 0;overflow: hidden;text-align: left;background-color: #f0f8ff;}#sk-container-id-1 div.sk-toggleable__content pre {margin: 0.2em;color: black;border-radius: 0.25em;background-color: #f0f8ff;}#sk-container-id-1 input.sk-toggleable__control:checked~div.sk-toggleable__content {max-height: 200px;max-width: 100%;overflow: auto;}#sk-container-id-1 input.sk-toggleable__control:checked~label.sk-toggleable__label-arrow:before {content: \"▾\";}#sk-container-id-1 div.sk-estimator input.sk-toggleable__control:checked~label.sk-toggleable__label {background-color: #d4ebff;}#sk-container-id-1 div.sk-label input.sk-toggleable__control:checked~label.sk-toggleable__label {background-color: #d4ebff;}#sk-container-id-1 input.sk-hidden--visually {border: 0;clip: rect(1px 1px 1px 1px);clip: rect(1px, 1px, 1px, 1px);height: 1px;margin: -1px;overflow: hidden;padding: 0;position: absolute;width: 1px;}#sk-container-id-1 div.sk-estimator {font-family: monospace;background-color: #f0f8ff;border: 1px dotted black;border-radius: 0.25em;box-sizing: border-box;margin-bottom: 0.5em;}#sk-container-id-1 div.sk-estimator:hover {background-color: #d4ebff;}#sk-container-id-1 div.sk-parallel-item::after {content: \"\";width: 100%;border-bottom: 1px solid gray;flex-grow: 1;}#sk-container-id-1 div.sk-label:hover label.sk-toggleable__label {background-color: #d4ebff;}#sk-container-id-1 div.sk-serial::before {content: \"\";position: absolute;border-left: 1px solid gray;box-sizing: border-box;top: 0;bottom: 0;left: 50%;z-index: 0;}#sk-container-id-1 div.sk-serial {display: flex;flex-direction: column;align-items: center;background-color: white;padding-right: 0.2em;padding-left: 0.2em;position: relative;}#sk-container-id-1 div.sk-item {position: relative;z-index: 1;}#sk-container-id-1 div.sk-parallel {display: flex;align-items: stretch;justify-content: center;background-color: white;position: relative;}#sk-container-id-1 div.sk-item::before, #sk-container-id-1 div.sk-parallel-item::before {content: \"\";position: absolute;border-left: 1px solid gray;box-sizing: border-box;top: 0;bottom: 0;left: 50%;z-index: -1;}#sk-container-id-1 div.sk-parallel-item {display: flex;flex-direction: column;z-index: 1;position: relative;background-color: white;}#sk-container-id-1 div.sk-parallel-item:first-child::after {align-self: flex-end;width: 50%;}#sk-container-id-1 div.sk-parallel-item:last-child::after {align-self: flex-start;width: 50%;}#sk-container-id-1 div.sk-parallel-item:only-child::after {width: 0;}#sk-container-id-1 div.sk-dashed-wrapped {border: 1px dashed gray;margin: 0 0.4em 0.5em 0.4em;box-sizing: border-box;padding-bottom: 0.4em;background-color: white;}#sk-container-id-1 div.sk-label label {font-family: monospace;font-weight: bold;display: inline-block;line-height: 1.2em;}#sk-container-id-1 div.sk-label-container {text-align: center;}#sk-container-id-1 div.sk-container {/* jupyter's `normalize.less` sets `[hidden] { display: none; }` but bootstrap.min.css set `[hidden] { display: none !important; }` so we also need the `!important` here to be able to override the default hidden behavior on the sphinx rendered scikit-learn.org. See: https://github.com/scikit-learn/scikit-learn/issues/21755 */display: inline-block !important;position: relative;}#sk-container-id-1 div.sk-text-repr-fallback {display: none;}</style><div id=\"sk-container-id-1\" class=\"sk-top-container\"><div class=\"sk-text-repr-fallback\"><pre>DummyRegressor()</pre><b>In a Jupyter environment, please rerun this cell to show the HTML representation or trust the notebook. <br />On GitHub, the HTML representation is unable to render, please try loading this page with nbviewer.org.</b></div><div class=\"sk-container\" hidden><div class=\"sk-item\"><div class=\"sk-estimator sk-toggleable\"><input class=\"sk-toggleable__control sk-hidden--visually\" id=\"sk-estimator-id-1\" type=\"checkbox\" checked><label for=\"sk-estimator-id-1\" class=\"sk-toggleable__label sk-toggleable__label-arrow\">DummyRegressor</label><div class=\"sk-toggleable__content\"><pre>DummyRegressor()</pre></div></div></div></div></div>"
      ],
      "text/plain": [
       "DummyRegressor()"
      ]
     },
     "execution_count": 24,
     "metadata": {},
     "output_type": "execute_result"
    }
   ],
   "source": [
    "# Make a baseline model and calculate the MSE for the train data\n",
    "\n",
    "# Regressor that makes predictions using simple rules.\n",
    "baseline_model = DummyRegressor(strategy='mean')\n",
    "baseline_model.fit(X_train, y_train)"
   ]
  },
  {
   "cell_type": "code",
   "execution_count": 25,
   "id": "1cc527cf",
   "metadata": {},
   "outputs": [],
   "source": [
    "y_preds_null = baseline_model.predict(X_train)"
   ]
  },
  {
   "cell_type": "code",
   "execution_count": 26,
   "id": "2b4266c3",
   "metadata": {},
   "outputs": [
    {
     "data": {
      "text/plain": [
       "3.9423894160154465"
      ]
     },
     "execution_count": 26,
     "metadata": {},
     "output_type": "execute_result"
    }
   ],
   "source": [
    "mean_squared_error(y_train, y_preds_null)"
   ]
  },
  {
   "cell_type": "code",
   "execution_count": 27,
   "id": "dfb66840",
   "metadata": {},
   "outputs": [
    {
     "data": {
      "text/html": [
       "<style>#sk-container-id-2 {color: black;background-color: white;}#sk-container-id-2 pre{padding: 0;}#sk-container-id-2 div.sk-toggleable {background-color: white;}#sk-container-id-2 label.sk-toggleable__label {cursor: pointer;display: block;width: 100%;margin-bottom: 0;padding: 0.3em;box-sizing: border-box;text-align: center;}#sk-container-id-2 label.sk-toggleable__label-arrow:before {content: \"▸\";float: left;margin-right: 0.25em;color: #696969;}#sk-container-id-2 label.sk-toggleable__label-arrow:hover:before {color: black;}#sk-container-id-2 div.sk-estimator:hover label.sk-toggleable__label-arrow:before {color: black;}#sk-container-id-2 div.sk-toggleable__content {max-height: 0;max-width: 0;overflow: hidden;text-align: left;background-color: #f0f8ff;}#sk-container-id-2 div.sk-toggleable__content pre {margin: 0.2em;color: black;border-radius: 0.25em;background-color: #f0f8ff;}#sk-container-id-2 input.sk-toggleable__control:checked~div.sk-toggleable__content {max-height: 200px;max-width: 100%;overflow: auto;}#sk-container-id-2 input.sk-toggleable__control:checked~label.sk-toggleable__label-arrow:before {content: \"▾\";}#sk-container-id-2 div.sk-estimator input.sk-toggleable__control:checked~label.sk-toggleable__label {background-color: #d4ebff;}#sk-container-id-2 div.sk-label input.sk-toggleable__control:checked~label.sk-toggleable__label {background-color: #d4ebff;}#sk-container-id-2 input.sk-hidden--visually {border: 0;clip: rect(1px 1px 1px 1px);clip: rect(1px, 1px, 1px, 1px);height: 1px;margin: -1px;overflow: hidden;padding: 0;position: absolute;width: 1px;}#sk-container-id-2 div.sk-estimator {font-family: monospace;background-color: #f0f8ff;border: 1px dotted black;border-radius: 0.25em;box-sizing: border-box;margin-bottom: 0.5em;}#sk-container-id-2 div.sk-estimator:hover {background-color: #d4ebff;}#sk-container-id-2 div.sk-parallel-item::after {content: \"\";width: 100%;border-bottom: 1px solid gray;flex-grow: 1;}#sk-container-id-2 div.sk-label:hover label.sk-toggleable__label {background-color: #d4ebff;}#sk-container-id-2 div.sk-serial::before {content: \"\";position: absolute;border-left: 1px solid gray;box-sizing: border-box;top: 0;bottom: 0;left: 50%;z-index: 0;}#sk-container-id-2 div.sk-serial {display: flex;flex-direction: column;align-items: center;background-color: white;padding-right: 0.2em;padding-left: 0.2em;position: relative;}#sk-container-id-2 div.sk-item {position: relative;z-index: 1;}#sk-container-id-2 div.sk-parallel {display: flex;align-items: stretch;justify-content: center;background-color: white;position: relative;}#sk-container-id-2 div.sk-item::before, #sk-container-id-2 div.sk-parallel-item::before {content: \"\";position: absolute;border-left: 1px solid gray;box-sizing: border-box;top: 0;bottom: 0;left: 50%;z-index: -1;}#sk-container-id-2 div.sk-parallel-item {display: flex;flex-direction: column;z-index: 1;position: relative;background-color: white;}#sk-container-id-2 div.sk-parallel-item:first-child::after {align-self: flex-end;width: 50%;}#sk-container-id-2 div.sk-parallel-item:last-child::after {align-self: flex-start;width: 50%;}#sk-container-id-2 div.sk-parallel-item:only-child::after {width: 0;}#sk-container-id-2 div.sk-dashed-wrapped {border: 1px dashed gray;margin: 0 0.4em 0.5em 0.4em;box-sizing: border-box;padding-bottom: 0.4em;background-color: white;}#sk-container-id-2 div.sk-label label {font-family: monospace;font-weight: bold;display: inline-block;line-height: 1.2em;}#sk-container-id-2 div.sk-label-container {text-align: center;}#sk-container-id-2 div.sk-container {/* jupyter's `normalize.less` sets `[hidden] { display: none; }` but bootstrap.min.css set `[hidden] { display: none !important; }` so we also need the `!important` here to be able to override the default hidden behavior on the sphinx rendered scikit-learn.org. See: https://github.com/scikit-learn/scikit-learn/issues/21755 */display: inline-block !important;position: relative;}#sk-container-id-2 div.sk-text-repr-fallback {display: none;}</style><div id=\"sk-container-id-2\" class=\"sk-top-container\"><div class=\"sk-text-repr-fallback\"><pre>DecisionTreeRegressor(max_depth=3, random_state=1)</pre><b>In a Jupyter environment, please rerun this cell to show the HTML representation or trust the notebook. <br />On GitHub, the HTML representation is unable to render, please try loading this page with nbviewer.org.</b></div><div class=\"sk-container\" hidden><div class=\"sk-item\"><div class=\"sk-estimator sk-toggleable\"><input class=\"sk-toggleable__control sk-hidden--visually\" id=\"sk-estimator-id-2\" type=\"checkbox\" checked><label for=\"sk-estimator-id-2\" class=\"sk-toggleable__label sk-toggleable__label-arrow\">DecisionTreeRegressor</label><div class=\"sk-toggleable__content\"><pre>DecisionTreeRegressor(max_depth=3, random_state=1)</pre></div></div></div></div></div>"
      ],
      "text/plain": [
       "DecisionTreeRegressor(max_depth=3, random_state=1)"
      ]
     },
     "execution_count": 27,
     "metadata": {},
     "output_type": "execute_result"
    }
   ],
   "source": [
    "# Instantiate\n",
    "tree = DecisionTreeRegressor(random_state=1, max_depth=3)\n",
    "\n",
    "# Fit our estimator on X_train and y_train\n",
    "tree.fit(X_train, y_train)"
   ]
  },
  {
   "cell_type": "code",
   "execution_count": 28,
   "id": "c8ba91f9",
   "metadata": {},
   "outputs": [
    {
     "data": {
      "text/plain": [
       "(0.07848974583535628, -0.043702279354608464)"
      ]
     },
     "execution_count": 28,
     "metadata": {},
     "output_type": "execute_result"
    }
   ],
   "source": [
    "# Evaluate using .score\n",
    "tree.score(X_train, y_train), tree.score(X_test, y_test)"
   ]
  },
  {
   "cell_type": "code",
   "execution_count": 29,
   "id": "8356bdfa",
   "metadata": {},
   "outputs": [],
   "source": [
    "# Predict on X_test\n",
    "y_preds = tree.predict(X_test)"
   ]
  },
  {
   "cell_type": "code",
   "execution_count": 30,
   "id": "3ee61b9a",
   "metadata": {},
   "outputs": [],
   "source": [
    "# Predict on X_train to compare RMSE\n",
    "x_preds = tree.predict(X_train)"
   ]
  },
  {
   "cell_type": "code",
   "execution_count": 31,
   "id": "a1f7b15a",
   "metadata": {},
   "outputs": [
    {
     "name": "stdout",
     "output_type": "stream",
     "text": [
      "RMSE is 1.9060305015314931\n"
     ]
    }
   ],
   "source": [
    "# RMSE for training\n",
    "print(f'RMSE is {mean_squared_error(y_train, x_preds, squared=False)}')"
   ]
  },
  {
   "cell_type": "code",
   "execution_count": 32,
   "id": "e65aeaa7",
   "metadata": {
    "scrolled": true
   },
   "outputs": [
    {
     "name": "stdout",
     "output_type": "stream",
     "text": [
      "MSE is 4.396020082818781\n",
      "RMSE is 2.0966688061825076\n"
     ]
    }
   ],
   "source": [
    "\n",
    "print(f'MSE is {mean_squared_error(y_test, y_preds)}')\n",
    "print(f'RMSE is {mean_squared_error(y_test, y_preds, squared=False)}')"
   ]
  },
  {
   "cell_type": "markdown",
   "id": "46c45d7c",
   "metadata": {},
   "source": [
    "Using the Decision Tree Model, this model breaks down the dataset into smaller subsets based off True and False questions.\n",
    "The result is a tree with multiple nodes allowing to visulaize the path of the model.  Looking at the result of this model\n",
    "it got an RMSE of 2.096 which is greater than testing RMSE in the first linear regression model."
   ]
  },
  {
   "cell_type": "code",
   "execution_count": 33,
   "id": "46338442",
   "metadata": {},
   "outputs": [
    {
     "data": {
      "image/png": "[encoded data removed]",
      "text/plain": [
       "<Figure size 1400x1200 with 1 Axes>"
      ]
     },
     "metadata": {},
     "output_type": "display_data"
    }
   ],
   "source": [
    "plt.figure(figsize=(14,12))\n",
    "plot_tree(tree, feature_names = X_train.columns, \n",
    "         rounded=True, filled=True);"
   ]
  },
  {
   "cell_type": "markdown",
   "id": "9672f0e7",
   "metadata": {},
   "source": [
    "The decision tree above allows me to map out how the decisoin tree was created what question was asked each node.  This \n",
    "tree is a grea visual on seeing how the model worked."
   ]
  },
  {
   "cell_type": "code",
   "execution_count": 34,
   "id": "281e7d60",
   "metadata": {
    "scrolled": true
   },
   "outputs": [
    {
     "data": {
      "text/html": [
       "<div>\n",
       "<style scoped>\n",
       "    .dataframe tbody tr th:only-of-type {\n",
       "        vertical-align: middle;\n",
       "    }\n",
       "\n",
       "    .dataframe tbody tr th {\n",
       "        vertical-align: top;\n",
       "    }\n",
       "\n",
       "    .dataframe thead th {\n",
       "        text-align: right;\n",
       "    }\n",
       "</style>\n",
       "<table border=\"1\" class=\"dataframe\">\n",
       "  <thead>\n",
       "    <tr style=\"text-align: right;\">\n",
       "      <th></th>\n",
       "      <th>feature importances</th>\n",
       "    </tr>\n",
       "  </thead>\n",
       "  <tbody>\n",
       "    <tr>\n",
       "      <th>HEIGHT_W_SHOES</th>\n",
       "      <td>0.000000</td>\n",
       "    </tr>\n",
       "    <tr>\n",
       "      <th>WEIGHT</th>\n",
       "      <td>0.192838</td>\n",
       "    </tr>\n",
       "    <tr>\n",
       "      <th>WINGSPAN</th>\n",
       "      <td>0.264192</td>\n",
       "    </tr>\n",
       "    <tr>\n",
       "      <th>STANDING_REACH</th>\n",
       "      <td>0.079734</td>\n",
       "    </tr>\n",
       "    <tr>\n",
       "      <th>BODY_FAT_PCT</th>\n",
       "      <td>0.226750</td>\n",
       "    </tr>\n",
       "    <tr>\n",
       "      <th>HAND_LENGTH</th>\n",
       "      <td>0.000000</td>\n",
       "    </tr>\n",
       "    <tr>\n",
       "      <th>HAND_WIDTH</th>\n",
       "      <td>0.000000</td>\n",
       "    </tr>\n",
       "    <tr>\n",
       "      <th>STANDING_VERTICAL_LEAP</th>\n",
       "      <td>0.118173</td>\n",
       "    </tr>\n",
       "    <tr>\n",
       "      <th>MAX_VERTICAL_LEAP</th>\n",
       "      <td>0.000000</td>\n",
       "    </tr>\n",
       "    <tr>\n",
       "      <th>LANE_AGILITY_TIME</th>\n",
       "      <td>0.118313</td>\n",
       "    </tr>\n",
       "  </tbody>\n",
       "</table>\n",
       "</div>"
      ],
      "text/plain": [
       "                        feature importances\n",
       "HEIGHT_W_SHOES                     0.000000\n",
       "WEIGHT                             0.192838\n",
       "WINGSPAN                           0.264192\n",
       "STANDING_REACH                     0.079734\n",
       "BODY_FAT_PCT                       0.226750\n",
       "HAND_LENGTH                        0.000000\n",
       "HAND_WIDTH                         0.000000\n",
       "STANDING_VERTICAL_LEAP             0.118173\n",
       "MAX_VERTICAL_LEAP                  0.000000\n",
       "LANE_AGILITY_TIME                  0.118313"
      ]
     },
     "execution_count": 34,
     "metadata": {},
     "output_type": "execute_result"
    }
   ],
   "source": [
    "# This allows me to look at what features were the most important in this model.  I can see that winspan and body fat are \n",
    "# imporant\n",
    "\n",
    "pd.DataFrame(\n",
    "    tree.feature_importances_,\n",
    "    index=X_train.columns,\n",
    "    columns=['feature importances'])"
   ]
  },
  {
   "cell_type": "markdown",
   "id": "158177bd",
   "metadata": {},
   "source": [
    "## Tuning Decision Tree"
   ]
  },
  {
   "cell_type": "code",
   "execution_count": 35,
   "id": "324fc8b2",
   "metadata": {},
   "outputs": [
    {
     "name": "stdout",
     "output_type": "stream",
     "text": [
      "Fitting 100 folds for each of 13 candidates, totalling 1300 fits\n"
     ]
    },
    {
     "data": {
      "text/html": [
       "<style>#sk-container-id-3 {color: black;background-color: white;}#sk-container-id-3 pre{padding: 0;}#sk-container-id-3 div.sk-toggleable {background-color: white;}#sk-container-id-3 label.sk-toggleable__label {cursor: pointer;display: block;width: 100%;margin-bottom: 0;padding: 0.3em;box-sizing: border-box;text-align: center;}#sk-container-id-3 label.sk-toggleable__label-arrow:before {content: \"▸\";float: left;margin-right: 0.25em;color: #696969;}#sk-container-id-3 label.sk-toggleable__label-arrow:hover:before {color: black;}#sk-container-id-3 div.sk-estimator:hover label.sk-toggleable__label-arrow:before {color: black;}#sk-container-id-3 div.sk-toggleable__content {max-height: 0;max-width: 0;overflow: hidden;text-align: left;background-color: #f0f8ff;}#sk-container-id-3 div.sk-toggleable__content pre {margin: 0.2em;color: black;border-radius: 0.25em;background-color: #f0f8ff;}#sk-container-id-3 input.sk-toggleable__control:checked~div.sk-toggleable__content {max-height: 200px;max-width: 100%;overflow: auto;}#sk-container-id-3 input.sk-toggleable__control:checked~label.sk-toggleable__label-arrow:before {content: \"▾\";}#sk-container-id-3 div.sk-estimator input.sk-toggleable__control:checked~label.sk-toggleable__label {background-color: #d4ebff;}#sk-container-id-3 div.sk-label input.sk-toggleable__control:checked~label.sk-toggleable__label {background-color: #d4ebff;}#sk-container-id-3 input.sk-hidden--visually {border: 0;clip: rect(1px 1px 1px 1px);clip: rect(1px, 1px, 1px, 1px);height: 1px;margin: -1px;overflow: hidden;padding: 0;position: absolute;width: 1px;}#sk-container-id-3 div.sk-estimator {font-family: monospace;background-color: #f0f8ff;border: 1px dotted black;border-radius: 0.25em;box-sizing: border-box;margin-bottom: 0.5em;}#sk-container-id-3 div.sk-estimator:hover {background-color: #d4ebff;}#sk-container-id-3 div.sk-parallel-item::after {content: \"\";width: 100%;border-bottom: 1px solid gray;flex-grow: 1;}#sk-container-id-3 div.sk-label:hover label.sk-toggleable__label {background-color: #d4ebff;}#sk-container-id-3 div.sk-serial::before {content: \"\";position: absolute;border-left: 1px solid gray;box-sizing: border-box;top: 0;bottom: 0;left: 50%;z-index: 0;}#sk-container-id-3 div.sk-serial {display: flex;flex-direction: column;align-items: center;background-color: white;padding-right: 0.2em;padding-left: 0.2em;position: relative;}#sk-container-id-3 div.sk-item {position: relative;z-index: 1;}#sk-container-id-3 div.sk-parallel {display: flex;align-items: stretch;justify-content: center;background-color: white;position: relative;}#sk-container-id-3 div.sk-item::before, #sk-container-id-3 div.sk-parallel-item::before {content: \"\";position: absolute;border-left: 1px solid gray;box-sizing: border-box;top: 0;bottom: 0;left: 50%;z-index: -1;}#sk-container-id-3 div.sk-parallel-item {display: flex;flex-direction: column;z-index: 1;position: relative;background-color: white;}#sk-container-id-3 div.sk-parallel-item:first-child::after {align-self: flex-end;width: 50%;}#sk-container-id-3 div.sk-parallel-item:last-child::after {align-self: flex-start;width: 50%;}#sk-container-id-3 div.sk-parallel-item:only-child::after {width: 0;}#sk-container-id-3 div.sk-dashed-wrapped {border: 1px dashed gray;margin: 0 0.4em 0.5em 0.4em;box-sizing: border-box;padding-bottom: 0.4em;background-color: white;}#sk-container-id-3 div.sk-label label {font-family: monospace;font-weight: bold;display: inline-block;line-height: 1.2em;}#sk-container-id-3 div.sk-label-container {text-align: center;}#sk-container-id-3 div.sk-container {/* jupyter's `normalize.less` sets `[hidden] { display: none; }` but bootstrap.min.css set `[hidden] { display: none !important; }` so we also need the `!important` here to be able to override the default hidden behavior on the sphinx rendered scikit-learn.org. See: https://github.com/scikit-learn/scikit-learn/issues/21755 */display: inline-block !important;position: relative;}#sk-container-id-3 div.sk-text-repr-fallback {display: none;}</style><div id=\"sk-container-id-3\" class=\"sk-top-container\"><div class=\"sk-text-repr-fallback\"><pre>GridSearchCV(cv=100, estimator=DecisionTreeRegressor(),\n",
       "             param_grid={&#x27;max_depth&#x27;: range(2, 15)}, verbose=1)</pre><b>In a Jupyter environment, please rerun this cell to show the HTML representation or trust the notebook. <br />On GitHub, the HTML representation is unable to render, please try loading this page with nbviewer.org.</b></div><div class=\"sk-container\" hidden><div class=\"sk-item sk-dashed-wrapped\"><div class=\"sk-label-container\"><div class=\"sk-label sk-toggleable\"><input class=\"sk-toggleable__control sk-hidden--visually\" id=\"sk-estimator-id-3\" type=\"checkbox\" ><label for=\"sk-estimator-id-3\" class=\"sk-toggleable__label sk-toggleable__label-arrow\">GridSearchCV</label><div class=\"sk-toggleable__content\"><pre>GridSearchCV(cv=100, estimator=DecisionTreeRegressor(),\n",
       "             param_grid={&#x27;max_depth&#x27;: range(2, 15)}, verbose=1)</pre></div></div></div><div class=\"sk-parallel\"><div class=\"sk-parallel-item\"><div class=\"sk-item\"><div class=\"sk-label-container\"><div class=\"sk-label sk-toggleable\"><input class=\"sk-toggleable__control sk-hidden--visually\" id=\"sk-estimator-id-4\" type=\"checkbox\" ><label for=\"sk-estimator-id-4\" class=\"sk-toggleable__label sk-toggleable__label-arrow\">estimator: DecisionTreeRegressor</label><div class=\"sk-toggleable__content\"><pre>DecisionTreeRegressor()</pre></div></div></div><div class=\"sk-serial\"><div class=\"sk-item\"><div class=\"sk-estimator sk-toggleable\"><input class=\"sk-toggleable__control sk-hidden--visually\" id=\"sk-estimator-id-5\" type=\"checkbox\" ><label for=\"sk-estimator-id-5\" class=\"sk-toggleable__label sk-toggleable__label-arrow\">DecisionTreeRegressor</label><div class=\"sk-toggleable__content\"><pre>DecisionTreeRegressor()</pre></div></div></div></div></div></div></div></div></div></div>"
      ],
      "text/plain": [
       "GridSearchCV(cv=100, estimator=DecisionTreeRegressor(),\n",
       "             param_grid={'max_depth': range(2, 15)}, verbose=1)"
      ]
     },
     "execution_count": 35,
     "metadata": {},
     "output_type": "execute_result"
    }
   ],
   "source": [
    "# Next I used Gridsearch to find the best parameter in decision tree\n",
    "# I made the gridsearch go through 13 different caondidates.\n",
    "# The depth of a tree is the max distance between root and leaf\n",
    "\n",
    "params = {\n",
    "    'max_depth': range(2,15) # 13 candidates\n",
    "}\n",
    "\n",
    "gs = GridSearchCV(DecisionTreeRegressor(), param_grid=params, cv=100, verbose=1)\n",
    "\n",
    "gs.fit(X_train, y_train)"
   ]
  },
  {
   "cell_type": "code",
   "execution_count": 36,
   "id": "cfa4109b",
   "metadata": {},
   "outputs": [
    {
     "data": {
      "text/plain": [
       "{'max_depth': 2}"
      ]
     },
     "execution_count": 36,
     "metadata": {},
     "output_type": "execute_result"
    }
   ],
   "source": [
    "# Check out the best parameters\n",
    "gs.best_params_"
   ]
  },
  {
   "cell_type": "code",
   "execution_count": 37,
   "id": "752b7b15",
   "metadata": {},
   "outputs": [
    {
     "data": {
      "text/html": [
       "<div>\n",
       "<style scoped>\n",
       "    .dataframe tbody tr th:only-of-type {\n",
       "        vertical-align: middle;\n",
       "    }\n",
       "\n",
       "    .dataframe tbody tr th {\n",
       "        vertical-align: top;\n",
       "    }\n",
       "\n",
       "    .dataframe thead th {\n",
       "        text-align: right;\n",
       "    }\n",
       "</style>\n",
       "<table border=\"1\" class=\"dataframe\">\n",
       "  <thead>\n",
       "    <tr style=\"text-align: right;\">\n",
       "      <th></th>\n",
       "      <th>feature importances</th>\n",
       "    </tr>\n",
       "  </thead>\n",
       "  <tbody>\n",
       "    <tr>\n",
       "      <th>HEIGHT_W_SHOES</th>\n",
       "      <td>0.000000</td>\n",
       "    </tr>\n",
       "    <tr>\n",
       "      <th>WEIGHT</th>\n",
       "      <td>0.386307</td>\n",
       "    </tr>\n",
       "    <tr>\n",
       "      <th>WINGSPAN</th>\n",
       "      <td>0.376680</td>\n",
       "    </tr>\n",
       "    <tr>\n",
       "      <th>STANDING_REACH</th>\n",
       "      <td>0.000000</td>\n",
       "    </tr>\n",
       "    <tr>\n",
       "      <th>BODY_FAT_PCT</th>\n",
       "      <td>0.000000</td>\n",
       "    </tr>\n",
       "    <tr>\n",
       "      <th>HAND_LENGTH</th>\n",
       "      <td>0.000000</td>\n",
       "    </tr>\n",
       "    <tr>\n",
       "      <th>HAND_WIDTH</th>\n",
       "      <td>0.000000</td>\n",
       "    </tr>\n",
       "    <tr>\n",
       "      <th>STANDING_VERTICAL_LEAP</th>\n",
       "      <td>0.000000</td>\n",
       "    </tr>\n",
       "    <tr>\n",
       "      <th>MAX_VERTICAL_LEAP</th>\n",
       "      <td>0.000000</td>\n",
       "    </tr>\n",
       "    <tr>\n",
       "      <th>LANE_AGILITY_TIME</th>\n",
       "      <td>0.237013</td>\n",
       "    </tr>\n",
       "  </tbody>\n",
       "</table>\n",
       "</div>"
      ],
      "text/plain": [
       "                        feature importances\n",
       "HEIGHT_W_SHOES                     0.000000\n",
       "WEIGHT                             0.386307\n",
       "WINGSPAN                           0.376680\n",
       "STANDING_REACH                     0.000000\n",
       "BODY_FAT_PCT                       0.000000\n",
       "HAND_LENGTH                        0.000000\n",
       "HAND_WIDTH                         0.000000\n",
       "STANDING_VERTICAL_LEAP             0.000000\n",
       "MAX_VERTICAL_LEAP                  0.000000\n",
       "LANE_AGILITY_TIME                  0.237013"
      ]
     },
     "execution_count": 37,
     "metadata": {},
     "output_type": "execute_result"
    }
   ],
   "source": [
    "# After gridsearch I looked at the important features again and saw that weight, agility time and wingspan\n",
    "# are still impotant\n",
    "\n",
    "# In DataFrame format\n",
    "pd.DataFrame(\n",
    "    gs.best_estimator_.feature_importances_,\n",
    "    index=X_train.columns,\n",
    "    columns=['feature importances'])"
   ]
  },
  {
   "cell_type": "code",
   "execution_count": 38,
   "id": "26f5ddf2",
   "metadata": {},
   "outputs": [],
   "source": [
    "x_preds = gs.predict(X_train)"
   ]
  },
  {
   "cell_type": "code",
   "execution_count": 39,
   "id": "cea73933",
   "metadata": {},
   "outputs": [
    {
     "name": "stdout",
     "output_type": "stream",
     "text": [
      "RMSE is 1.9462588185094238\n"
     ]
    }
   ],
   "source": [
    "# Training RMSE\n",
    "print(f'RMSE is {mean_squared_error(y_train, x_preds, squared=False)}')"
   ]
  },
  {
   "cell_type": "code",
   "execution_count": 40,
   "id": "c311ac84",
   "metadata": {},
   "outputs": [],
   "source": [
    "y_preds = gs.predict(X_test)"
   ]
  },
  {
   "cell_type": "code",
   "execution_count": 41,
   "id": "71acf35e",
   "metadata": {},
   "outputs": [
    {
     "name": "stdout",
     "output_type": "stream",
     "text": [
      "MSE is 4.21941343178778\n",
      "RMSE is 2.054121084986905\n"
     ]
    }
   ],
   "source": [
    "print(f'MSE is {mean_squared_error(y_test, y_preds)}')\n",
    "print(f'RMSE is {mean_squared_error(y_test, y_preds, squared=False)}')"
   ]
  },
  {
   "cell_type": "code",
   "execution_count": 42,
   "id": "9dfaeb97",
   "metadata": {},
   "outputs": [
    {
     "data": {
      "text/plain": [
       "Text(0.5, 0, 'Predicted Values')"
      ]
     },
     "execution_count": 42,
     "metadata": {},
     "output_type": "execute_result"
    },
    {
     "data": {
      "image/png": "[encoded data removed]",
      "text/plain": [
       "<Figure size 640x480 with 1 Axes>"
      ]
     },
     "metadata": {},
     "output_type": "display_data"
    }
   ],
   "source": [
    "    # Prediction and Residuals\n",
    "    lr_preds = gs.predict(X_test)\n",
    "    lr_residuals = lr_preds - y_test\n",
    "   \n",
    "    # Residuals Plot\n",
    "    plt.scatter(lr_residuals.index, lr_residuals)\n",
    "    plt.title(\"Residuals\", fontsize = 15)\n",
    "    plt.ylabel(\"Actual Values\", fontsize = 15)\n",
    "    plt.xlabel(\"Predicted Values\", fontsize = 15)"
   ]
  },
  {
   "cell_type": "markdown",
   "id": "a37097c3",
   "metadata": {},
   "source": [
    "Looking at the Results after we tuned our regression tree I can see that the RMSE lowered but compared to the orginal\n",
    "linear regression results it is still worse.  However this model gave me great insight on the what feature's were\n",
    "the most important in the model.\n",
    "\n",
    "Results:\n",
    "\n",
    "Testing RMSE: 2.054"
   ]
  },
  {
   "cell_type": "markdown",
   "id": "186c4891",
   "metadata": {},
   "source": [
    "# Model 4: Random Forests"
   ]
  },
  {
   "cell_type": "code",
   "execution_count": 43,
   "id": "3aa3af9a",
   "metadata": {},
   "outputs": [],
   "source": [
    "# Same target and features used in previous model\n",
    "\n",
    "y = df['College WS']\n",
    "X = df[['HEIGHT_W_SHOES', 'WEIGHT', 'WINGSPAN', 'STANDING_REACH', 'BODY_FAT_PCT',\n",
    "       'HAND_LENGTH', 'HAND_WIDTH', 'STANDING_VERTICAL_LEAP',\n",
    "       'MAX_VERTICAL_LEAP', 'LANE_AGILITY_TIME']]"
   ]
  },
  {
   "cell_type": "code",
   "execution_count": 44,
   "id": "e18da9ce",
   "metadata": {},
   "outputs": [],
   "source": [
    "X_train, X_test, y_train, y_test = train_test_split(X,y,test_size = 0.2,random_state = 42)\n",
    "\n",
    "# Split data up"
   ]
  },
  {
   "cell_type": "code",
   "execution_count": 45,
   "id": "c9f08cc1",
   "metadata": {},
   "outputs": [],
   "source": [
    "# intitate\n",
    "rfc = RandomForestRegressor()"
   ]
  },
  {
   "cell_type": "code",
   "execution_count": 46,
   "id": "382ecff0",
   "metadata": {},
   "outputs": [],
   "source": [
    "etc = ExtraTreesRegressor()\n",
    "# intiate"
   ]
  },
  {
   "cell_type": "code",
   "execution_count": 47,
   "id": "4a3eb76f",
   "metadata": {},
   "outputs": [
    {
     "data": {
      "text/plain": [
       "-0.04921744126198604"
      ]
     },
     "execution_count": 47,
     "metadata": {},
     "output_type": "execute_result"
    }
   ],
   "source": [
    "cross_val_score(rfc, X_train, y_train, cv=5).mean()\n",
    "# determine which tree regessor I want to use."
   ]
  },
  {
   "cell_type": "code",
   "execution_count": 48,
   "id": "fe9a06b5",
   "metadata": {},
   "outputs": [
    {
     "data": {
      "text/plain": [
       "-0.05580560853561993"
      ]
     },
     "execution_count": 48,
     "metadata": {},
     "output_type": "execute_result"
    }
   ],
   "source": [
    "cross_val_score(etc, X_train, y_train, cv=5).mean()"
   ]
  },
  {
   "cell_type": "code",
   "execution_count": 49,
   "id": "900ee48e",
   "metadata": {},
   "outputs": [
    {
     "name": "stdout",
     "output_type": "stream",
     "text": [
      "0.010407602681914119\n"
     ]
    },
    {
     "data": {
      "text/plain": [
       "{'max_depth': 5, 'n_estimators': 500}"
      ]
     },
     "execution_count": 49,
     "metadata": {},
     "output_type": "execute_result"
    }
   ],
   "source": [
    "# Used Gridsearch to find out the best parameters for this Random Forest model.\n",
    "# n_estimators specifies the number of tree's for the model.  \n",
    "# I will use the extratreeregessor based off the cross val score\n",
    "\n",
    "etc_params = {\n",
    "    'n_estimators': [50, 200, 500],\n",
    "    'max_depth': [None, 2, 3, 5],\n",
    "}\n",
    "gs = GridSearchCV(etc, param_grid=etc_params, cv=5)\n",
    "gs.fit(X_train, y_train)\n",
    "print(gs.best_score_)\n",
    "gs.best_params_"
   ]
  },
  {
   "cell_type": "code",
   "execution_count": 50,
   "id": "416c0b16",
   "metadata": {},
   "outputs": [],
   "source": [
    "# etc_params = {\n",
    "#     'n_estimators': [28, 29, 30],\n",
    "#     'max_depth': [4, 5, 6, 7],\n",
    "# }\n",
    "# gs = GridSearchCV(etc, param_grid=etc_params, cv=5)\n",
    "# gs.fit(X_train, y_train)\n",
    "# print(gs.best_score_)\n",
    "# gs.best_params_"
   ]
  },
  {
   "cell_type": "code",
   "execution_count": 51,
   "id": "bfcde92c",
   "metadata": {},
   "outputs": [
    {
     "name": "stdout",
     "output_type": "stream",
     "text": [
      "0.010883107470389675\n"
     ]
    },
    {
     "data": {
      "text/plain": [
       "{'max_depth': 5, 'n_estimators': 25}"
      ]
     },
     "execution_count": 51,
     "metadata": {},
     "output_type": "execute_result"
    }
   ],
   "source": [
    "etc_params = {\n",
    "    'n_estimators': [22, 25, 28],\n",
    "    'max_depth': [4, 5, 6, 7],\n",
    "}\n",
    "gs = GridSearchCV(etc, param_grid=etc_params, cv=5)\n",
    "gs.fit(X_train, y_train)\n",
    "print(gs.best_score_)\n",
    "gs.best_params_"
   ]
  },
  {
   "cell_type": "code",
   "execution_count": 52,
   "id": "4f72062c",
   "metadata": {
    "scrolled": true
   },
   "outputs": [
    {
     "data": {
      "text/plain": [
       "(0.10931026570110847, 0.0228533941543817)"
      ]
     },
     "execution_count": 52,
     "metadata": {},
     "output_type": "execute_result"
    }
   ],
   "source": [
    "gs.score(X_train, y_train), gs.score(X_test, y_test)"
   ]
  },
  {
   "cell_type": "code",
   "execution_count": 53,
   "id": "8d7e8f22",
   "metadata": {},
   "outputs": [
    {
     "data": {
      "text/html": [
       "<div>\n",
       "<style scoped>\n",
       "    .dataframe tbody tr th:only-of-type {\n",
       "        vertical-align: middle;\n",
       "    }\n",
       "\n",
       "    .dataframe tbody tr th {\n",
       "        vertical-align: top;\n",
       "    }\n",
       "\n",
       "    .dataframe thead th {\n",
       "        text-align: right;\n",
       "    }\n",
       "</style>\n",
       "<table border=\"1\" class=\"dataframe\">\n",
       "  <thead>\n",
       "    <tr style=\"text-align: right;\">\n",
       "      <th></th>\n",
       "      <th>SEASON</th>\n",
       "      <th>PLAYER_ID</th>\n",
       "      <th>FIRST_NAME</th>\n",
       "      <th>LAST_NAME</th>\n",
       "      <th>PLAYER_NAME</th>\n",
       "      <th>POSITION</th>\n",
       "      <th>HEIGHT_W_SHOES</th>\n",
       "      <th>WEIGHT</th>\n",
       "      <th>WINGSPAN</th>\n",
       "      <th>STANDING_REACH</th>\n",
       "      <th>BODY_FAT_PCT</th>\n",
       "      <th>HAND_LENGTH</th>\n",
       "      <th>HAND_WIDTH</th>\n",
       "      <th>STANDING_VERTICAL_LEAP</th>\n",
       "      <th>MAX_VERTICAL_LEAP</th>\n",
       "      <th>LANE_AGILITY_TIME</th>\n",
       "      <th>College WS</th>\n",
       "    </tr>\n",
       "  </thead>\n",
       "  <tbody>\n",
       "    <tr>\n",
       "      <th>0</th>\n",
       "      <td>2000</td>\n",
       "      <td>2124</td>\n",
       "      <td>malik</td>\n",
       "      <td>allen</td>\n",
       "      <td>Malik Allen</td>\n",
       "      <td>PF-C</td>\n",
       "      <td>82.118103</td>\n",
       "      <td>271.0</td>\n",
       "      <td>86.5</td>\n",
       "      <td>109.0</td>\n",
       "      <td>9.297541</td>\n",
       "      <td>9.235294</td>\n",
       "      <td>9.875000</td>\n",
       "      <td>25.500000</td>\n",
       "      <td>29.0</td>\n",
       "      <td>11.83</td>\n",
       "      <td>4.2</td>\n",
       "    </tr>\n",
       "    <tr>\n",
       "      <th>1</th>\n",
       "      <td>2000</td>\n",
       "      <td>12019</td>\n",
       "      <td>harold</td>\n",
       "      <td>arceneaux</td>\n",
       "      <td>Harold Arceneaux</td>\n",
       "      <td>SG-SF</td>\n",
       "      <td>78.064583</td>\n",
       "      <td>219.0</td>\n",
       "      <td>80.5</td>\n",
       "      <td>103.0</td>\n",
       "      <td>6.684507</td>\n",
       "      <td>8.636905</td>\n",
       "      <td>9.363095</td>\n",
       "      <td>29.761905</td>\n",
       "      <td>29.0</td>\n",
       "      <td>13.80</td>\n",
       "      <td>5.6</td>\n",
       "    </tr>\n",
       "    <tr>\n",
       "      <th>2</th>\n",
       "      <td>2000</td>\n",
       "      <td>12020</td>\n",
       "      <td>lamont</td>\n",
       "      <td>barnes</td>\n",
       "      <td>Lamont Barnes</td>\n",
       "      <td>PF-C</td>\n",
       "      <td>82.118103</td>\n",
       "      <td>235.5</td>\n",
       "      <td>87.5</td>\n",
       "      <td>108.0</td>\n",
       "      <td>9.297541</td>\n",
       "      <td>9.235294</td>\n",
       "      <td>9.875000</td>\n",
       "      <td>28.000000</td>\n",
       "      <td>29.5</td>\n",
       "      <td>12.30</td>\n",
       "      <td>5.2</td>\n",
       "    </tr>\n",
       "    <tr>\n",
       "      <th>3</th>\n",
       "      <td>2000</td>\n",
       "      <td>12131</td>\n",
       "      <td>mario</td>\n",
       "      <td>bland</td>\n",
       "      <td>Mario Bland</td>\n",
       "      <td>PF</td>\n",
       "      <td>81.066972</td>\n",
       "      <td>287.0</td>\n",
       "      <td>84.0</td>\n",
       "      <td>103.0</td>\n",
       "      <td>8.297265</td>\n",
       "      <td>8.996644</td>\n",
       "      <td>9.674497</td>\n",
       "      <td>27.000000</td>\n",
       "      <td>31.0</td>\n",
       "      <td>13.04</td>\n",
       "      <td>4.2</td>\n",
       "    </tr>\n",
       "    <tr>\n",
       "      <th>4</th>\n",
       "      <td>2000</td>\n",
       "      <td>2049</td>\n",
       "      <td>speedy</td>\n",
       "      <td>claxton</td>\n",
       "      <td>Speedy Claxton</td>\n",
       "      <td>PG</td>\n",
       "      <td>74.130693</td>\n",
       "      <td>166.0</td>\n",
       "      <td>72.0</td>\n",
       "      <td>94.5</td>\n",
       "      <td>6.420144</td>\n",
       "      <td>8.291353</td>\n",
       "      <td>8.971805</td>\n",
       "      <td>36.000000</td>\n",
       "      <td>42.5</td>\n",
       "      <td>10.48</td>\n",
       "      <td>7.0</td>\n",
       "    </tr>\n",
       "  </tbody>\n",
       "</table>\n",
       "</div>"
      ],
      "text/plain": [
       "   SEASON  PLAYER_ID FIRST_NAME  LAST_NAME       PLAYER_NAME POSITION  \\\n",
       "0    2000       2124      malik      allen       Malik Allen     PF-C   \n",
       "1    2000      12019     harold  arceneaux  Harold Arceneaux    SG-SF   \n",
       "2    2000      12020     lamont     barnes     Lamont Barnes     PF-C   \n",
       "3    2000      12131      mario      bland       Mario Bland       PF   \n",
       "4    2000       2049     speedy    claxton    Speedy Claxton       PG   \n",
       "\n",
       "   HEIGHT_W_SHOES  WEIGHT  WINGSPAN  STANDING_REACH  BODY_FAT_PCT  \\\n",
       "0       82.118103   271.0      86.5           109.0      9.297541   \n",
       "1       78.064583   219.0      80.5           103.0      6.684507   \n",
       "2       82.118103   235.5      87.5           108.0      9.297541   \n",
       "3       81.066972   287.0      84.0           103.0      8.297265   \n",
       "4       74.130693   166.0      72.0            94.5      6.420144   \n",
       "\n",
       "   HAND_LENGTH  HAND_WIDTH  STANDING_VERTICAL_LEAP  MAX_VERTICAL_LEAP  \\\n",
       "0     9.235294    9.875000               25.500000               29.0   \n",
       "1     8.636905    9.363095               29.761905               29.0   \n",
       "2     9.235294    9.875000               28.000000               29.5   \n",
       "3     8.996644    9.674497               27.000000               31.0   \n",
       "4     8.291353    8.971805               36.000000               42.5   \n",
       "\n",
       "   LANE_AGILITY_TIME  College WS  \n",
       "0              11.83         4.2  \n",
       "1              13.80         5.6  \n",
       "2              12.30         5.2  \n",
       "3              13.04         4.2  \n",
       "4              10.48         7.0  "
      ]
     },
     "execution_count": 53,
     "metadata": {},
     "output_type": "execute_result"
    }
   ],
   "source": [
    "df.head()"
   ]
  },
  {
   "cell_type": "code",
   "execution_count": 54,
   "id": "c507da79",
   "metadata": {},
   "outputs": [],
   "source": [
    "x_preds = gs.predict(X_train)"
   ]
  },
  {
   "cell_type": "code",
   "execution_count": 55,
   "id": "5c4fc83c",
   "metadata": {},
   "outputs": [
    {
     "name": "stdout",
     "output_type": "stream",
     "text": [
      "RMSE is 1.885337452977383\n"
     ]
    }
   ],
   "source": [
    "# RMSE for training\n",
    "print(f'RMSE is {mean_squared_error(y_train, x_preds, squared=False)}')"
   ]
  },
  {
   "cell_type": "code",
   "execution_count": 56,
   "id": "00cfd1d4",
   "metadata": {},
   "outputs": [],
   "source": [
    "y_preds = gs.predict(X_test)"
   ]
  },
  {
   "cell_type": "code",
   "execution_count": 57,
   "id": "5d12131a",
   "metadata": {},
   "outputs": [
    {
     "name": "stdout",
     "output_type": "stream",
     "text": [
      "MSE is 3.990001987536887\n",
      "RMSE is 1.99749893305025\n"
     ]
    }
   ],
   "source": [
    "print(f'MSE is {mean_squared_error(y_test, y_preds)}')\n",
    "print(f'RMSE is {mean_squared_error(y_test, y_preds, squared=False)}')"
   ]
  },
  {
   "cell_type": "code",
   "execution_count": 58,
   "id": "613a878a",
   "metadata": {},
   "outputs": [
    {
     "data": {
      "text/plain": [
       "Text(0.5, 0, 'Predicted Values')"
      ]
     },
     "execution_count": 58,
     "metadata": {},
     "output_type": "execute_result"
    },
    {
     "data": {
      "image/png": "[encoded data removed]",
      "text/plain": [
       "<Figure size 640x480 with 1 Axes>"
      ]
     },
     "metadata": {},
     "output_type": "display_data"
    }
   ],
   "source": [
    "   # Prediction and Residuals\n",
    "lr_preds = gs.predict(X_test)\n",
    "lr_residuals = lr_preds - y_test\n",
    "   \n",
    "    # Residuals Plot\n",
    "plt.scatter(lr_residuals.index, lr_residuals)\n",
    "plt.title(\"Residuals\", fontsize = 15)\n",
    "plt.ylabel(\"Actual Values\", fontsize = 15)\n",
    "plt.xlabel(\"Predicted Values\", fontsize = 15)"
   ]
  },
  {
   "cell_type": "markdown",
   "id": "bbbb9f5f",
   "metadata": {},
   "source": [
    "The results from here had the lowest test RMSE.  This means this model reduced the error between predicted and observed\n",
    "responses the most.\n",
    "\n",
    "Result:\n",
    "    \n",
    "Testing RMSE: 1.998"
   ]
  },
  {
   "cell_type": "markdown",
   "id": "1c8fa2a0",
   "metadata": {},
   "source": [
    "# Test Model with deliverable data"
   ]
  },
  {
   "cell_type": "markdown",
   "id": "4382f981",
   "metadata": {},
   "source": [
    "I created a dataframe with 10 fake players.  For each position I incorporated the average NBA combine stats\n",
    "per position via DraftExpress.com  The odd players in the data frame: Player1 1, Player3 3, Player5 5, Player7 7, and\n",
    "Player9 9 are all the avg. stats.  The other players (even numbered ones) are fake players with high altered \n",
    "nba combine stats in a few areas.  Below I will show my adjustments:\n",
    "\n",
    "Player2 2:(position: PG) Dec. weight., Inc. lane agility, inc. Vertical (A light, quick point guard, that is quick)\n",
    "    \n",
    "Player4 4:(position: SG) Dec. height, weight, & agility., Inc. lane Hand size (A smaller slower but large hand guard)\n",
    "    \n",
    "Player6 6:(position: SF) Dec. wt., Inc. height, weight, & hand size (Tall, heavy, big hand small forward)\n",
    "    \n",
    "Player8 8:(position: PF) Inc. Wingspan & height, Dec. Weight (A tall lanky player)\n",
    "\n",
    "Playe10 10:(position: C) Inc. handsize, weight, body fat, Dec. height (A shorter bigger center)\n",
    "\n",
    "\n",
    "Below are highly altered players\n",
    "\n",
    "Player10 10:(position: PG) Dec. weight., Inc. lane agility, inc. Vertical (A light, quick point guard, that is quick)\n",
    "\n",
    "Playe11 11:(position: C) Inc. handsize, weight, body fat, Dec. height (A shorter bigger center)\n",
    "\n",
    "Player12 12:(position: SG) Inc. Weight and Wingspan\n",
    "\n",
    "I created these fake players to see what Win share would be produced per each player to see the discrpenacy and see\n",
    "what player builds have a higher potential to positively impact a team using Win Share as the metric.  To view the exact changes, they can be found in the dataset: Test Data.xlsx"
   ]
  },
  {
   "cell_type": "code",
   "execution_count": 59,
   "id": "997defcc",
   "metadata": {},
   "outputs": [],
   "source": [
    "# Load in new data with created players\n",
    "\n",
    "test_data = 'Test Data.xlsx'\n",
    "\n",
    "test_df = pd.read_excel('./data/Test Data.xlsx')\n"
   ]
  },
  {
   "cell_type": "code",
   "execution_count": 60,
   "id": "70b2d675",
   "metadata": {
    "scrolled": true
   },
   "outputs": [
    {
     "data": {
      "text/html": [
       "<div>\n",
       "<style scoped>\n",
       "    .dataframe tbody tr th:only-of-type {\n",
       "        vertical-align: middle;\n",
       "    }\n",
       "\n",
       "    .dataframe tbody tr th {\n",
       "        vertical-align: top;\n",
       "    }\n",
       "\n",
       "    .dataframe thead th {\n",
       "        text-align: right;\n",
       "    }\n",
       "</style>\n",
       "<table border=\"1\" class=\"dataframe\">\n",
       "  <thead>\n",
       "    <tr style=\"text-align: right;\">\n",
       "      <th></th>\n",
       "      <th>SEASON</th>\n",
       "      <th>PLAYER_ID</th>\n",
       "      <th>FIRST_NAME</th>\n",
       "      <th>LAST_NAME</th>\n",
       "      <th>PLAYER_NAME</th>\n",
       "      <th>POSITION</th>\n",
       "      <th>HEIGHT_W_SHOES</th>\n",
       "      <th>WEIGHT</th>\n",
       "      <th>WINGSPAN</th>\n",
       "      <th>STANDING_REACH</th>\n",
       "      <th>BODY_FAT_PCT</th>\n",
       "      <th>HAND_LENGTH</th>\n",
       "      <th>HAND_WIDTH</th>\n",
       "      <th>STANDING_VERTICAL_LEAP</th>\n",
       "      <th>MAX_VERTICAL_LEAP</th>\n",
       "      <th>LANE_AGILITY_TIME</th>\n",
       "      <th>College WS</th>\n",
       "    </tr>\n",
       "  </thead>\n",
       "  <tbody>\n",
       "    <tr>\n",
       "      <th>0</th>\n",
       "      <td>2023</td>\n",
       "      <td>100000</td>\n",
       "      <td>Player1</td>\n",
       "      <td>1</td>\n",
       "      <td>Player1 1</td>\n",
       "      <td>PG</td>\n",
       "      <td>75</td>\n",
       "      <td>189</td>\n",
       "      <td>78</td>\n",
       "      <td>98.0</td>\n",
       "      <td>6.0</td>\n",
       "      <td>8.5</td>\n",
       "      <td>9.4</td>\n",
       "      <td>30.8</td>\n",
       "      <td>36.9</td>\n",
       "      <td>11.1</td>\n",
       "      <td>NaN</td>\n",
       "    </tr>\n",
       "    <tr>\n",
       "      <th>1</th>\n",
       "      <td>2023</td>\n",
       "      <td>200000</td>\n",
       "      <td>Player2</td>\n",
       "      <td>2</td>\n",
       "      <td>Player2 2</td>\n",
       "      <td>PG</td>\n",
       "      <td>77</td>\n",
       "      <td>160</td>\n",
       "      <td>80</td>\n",
       "      <td>100.0</td>\n",
       "      <td>5.4</td>\n",
       "      <td>8.0</td>\n",
       "      <td>8.9</td>\n",
       "      <td>33.0</td>\n",
       "      <td>41.0</td>\n",
       "      <td>10.0</td>\n",
       "      <td>NaN</td>\n",
       "    </tr>\n",
       "    <tr>\n",
       "      <th>2</th>\n",
       "      <td>2023</td>\n",
       "      <td>100000</td>\n",
       "      <td>Player3</td>\n",
       "      <td>3</td>\n",
       "      <td>Player3 3</td>\n",
       "      <td>SG</td>\n",
       "      <td>77</td>\n",
       "      <td>204</td>\n",
       "      <td>80</td>\n",
       "      <td>101.0</td>\n",
       "      <td>6.6</td>\n",
       "      <td>8.9</td>\n",
       "      <td>9.4</td>\n",
       "      <td>31.5</td>\n",
       "      <td>37.2</td>\n",
       "      <td>11.1</td>\n",
       "      <td>NaN</td>\n",
       "    </tr>\n",
       "    <tr>\n",
       "      <th>3</th>\n",
       "      <td>2023</td>\n",
       "      <td>300000</td>\n",
       "      <td>Player4</td>\n",
       "      <td>4</td>\n",
       "      <td>Player4 4</td>\n",
       "      <td>SG</td>\n",
       "      <td>74</td>\n",
       "      <td>190</td>\n",
       "      <td>81</td>\n",
       "      <td>98.0</td>\n",
       "      <td>6.5</td>\n",
       "      <td>9.4</td>\n",
       "      <td>10.0</td>\n",
       "      <td>32.0</td>\n",
       "      <td>37.0</td>\n",
       "      <td>11.9</td>\n",
       "      <td>NaN</td>\n",
       "    </tr>\n",
       "    <tr>\n",
       "      <th>4</th>\n",
       "      <td>2023</td>\n",
       "      <td>400000</td>\n",
       "      <td>Player5</td>\n",
       "      <td>5</td>\n",
       "      <td>Player5 5</td>\n",
       "      <td>SF</td>\n",
       "      <td>79</td>\n",
       "      <td>218</td>\n",
       "      <td>83</td>\n",
       "      <td>105.0</td>\n",
       "      <td>6.1</td>\n",
       "      <td>8.8</td>\n",
       "      <td>9.2</td>\n",
       "      <td>30.1</td>\n",
       "      <td>35.8</td>\n",
       "      <td>11.4</td>\n",
       "      <td>NaN</td>\n",
       "    </tr>\n",
       "    <tr>\n",
       "      <th>5</th>\n",
       "      <td>2023</td>\n",
       "      <td>500000</td>\n",
       "      <td>Player6</td>\n",
       "      <td>6</td>\n",
       "      <td>Player6 6</td>\n",
       "      <td>SF</td>\n",
       "      <td>81</td>\n",
       "      <td>230</td>\n",
       "      <td>83</td>\n",
       "      <td>107.0</td>\n",
       "      <td>6.1</td>\n",
       "      <td>9.5</td>\n",
       "      <td>10.0</td>\n",
       "      <td>30.0</td>\n",
       "      <td>35.5</td>\n",
       "      <td>11.4</td>\n",
       "      <td>NaN</td>\n",
       "    </tr>\n",
       "    <tr>\n",
       "      <th>6</th>\n",
       "      <td>2023</td>\n",
       "      <td>600000</td>\n",
       "      <td>Player7</td>\n",
       "      <td>7</td>\n",
       "      <td>Player7 7</td>\n",
       "      <td>PF</td>\n",
       "      <td>81</td>\n",
       "      <td>234</td>\n",
       "      <td>85</td>\n",
       "      <td>107.0</td>\n",
       "      <td>7.8</td>\n",
       "      <td>9.1</td>\n",
       "      <td>9.7</td>\n",
       "      <td>29.9</td>\n",
       "      <td>34.9</td>\n",
       "      <td>11.4</td>\n",
       "      <td>NaN</td>\n",
       "    </tr>\n",
       "    <tr>\n",
       "      <th>7</th>\n",
       "      <td>2023</td>\n",
       "      <td>700000</td>\n",
       "      <td>Player8</td>\n",
       "      <td>8</td>\n",
       "      <td>Player8 8</td>\n",
       "      <td>PF</td>\n",
       "      <td>83</td>\n",
       "      <td>210</td>\n",
       "      <td>90</td>\n",
       "      <td>110.0</td>\n",
       "      <td>7.8</td>\n",
       "      <td>9.1</td>\n",
       "      <td>9.7</td>\n",
       "      <td>30.0</td>\n",
       "      <td>35.0</td>\n",
       "      <td>11.2</td>\n",
       "      <td>NaN</td>\n",
       "    </tr>\n",
       "    <tr>\n",
       "      <th>8</th>\n",
       "      <td>2023</td>\n",
       "      <td>800000</td>\n",
       "      <td>Player9</td>\n",
       "      <td>9</td>\n",
       "      <td>Player9 9</td>\n",
       "      <td>C</td>\n",
       "      <td>83</td>\n",
       "      <td>247</td>\n",
       "      <td>89</td>\n",
       "      <td>109.5</td>\n",
       "      <td>7.8</td>\n",
       "      <td>9.4</td>\n",
       "      <td>9.9</td>\n",
       "      <td>28.7</td>\n",
       "      <td>32.8</td>\n",
       "      <td>11.7</td>\n",
       "      <td>NaN</td>\n",
       "    </tr>\n",
       "    <tr>\n",
       "      <th>9</th>\n",
       "      <td>2023</td>\n",
       "      <td>900000</td>\n",
       "      <td>Player10</td>\n",
       "      <td>10</td>\n",
       "      <td>Player10 10</td>\n",
       "      <td>C</td>\n",
       "      <td>81</td>\n",
       "      <td>250</td>\n",
       "      <td>89</td>\n",
       "      <td>109.5</td>\n",
       "      <td>8.0</td>\n",
       "      <td>9.6</td>\n",
       "      <td>10.1</td>\n",
       "      <td>27.0</td>\n",
       "      <td>31.0</td>\n",
       "      <td>12.0</td>\n",
       "      <td>NaN</td>\n",
       "    </tr>\n",
       "    <tr>\n",
       "      <th>10</th>\n",
       "      <td>2023</td>\n",
       "      <td>1000000</td>\n",
       "      <td>Player11</td>\n",
       "      <td>11</td>\n",
       "      <td>Player11 11</td>\n",
       "      <td>PG</td>\n",
       "      <td>80</td>\n",
       "      <td>189</td>\n",
       "      <td>82</td>\n",
       "      <td>108.0</td>\n",
       "      <td>6.0</td>\n",
       "      <td>8.5</td>\n",
       "      <td>9.4</td>\n",
       "      <td>30.8</td>\n",
       "      <td>36.9</td>\n",
       "      <td>10.5</td>\n",
       "      <td>NaN</td>\n",
       "    </tr>\n",
       "    <tr>\n",
       "      <th>11</th>\n",
       "      <td>2023</td>\n",
       "      <td>1100000</td>\n",
       "      <td>Player12</td>\n",
       "      <td>12</td>\n",
       "      <td>Player12 12</td>\n",
       "      <td>C</td>\n",
       "      <td>77</td>\n",
       "      <td>247</td>\n",
       "      <td>87</td>\n",
       "      <td>104.0</td>\n",
       "      <td>8.0</td>\n",
       "      <td>8.5</td>\n",
       "      <td>9.4</td>\n",
       "      <td>25.0</td>\n",
       "      <td>27.0</td>\n",
       "      <td>9.9</td>\n",
       "      <td>NaN</td>\n",
       "    </tr>\n",
       "    <tr>\n",
       "      <th>12</th>\n",
       "      <td>2023</td>\n",
       "      <td>1100000</td>\n",
       "      <td>Player13</td>\n",
       "      <td>13</td>\n",
       "      <td>Player13 13</td>\n",
       "      <td>C</td>\n",
       "      <td>77</td>\n",
       "      <td>235</td>\n",
       "      <td>89</td>\n",
       "      <td>100.0</td>\n",
       "      <td>6.9</td>\n",
       "      <td>8.9</td>\n",
       "      <td>9.4</td>\n",
       "      <td>31.5</td>\n",
       "      <td>37.2</td>\n",
       "      <td>11.1</td>\n",
       "      <td>NaN</td>\n",
       "    </tr>\n",
       "  </tbody>\n",
       "</table>\n",
       "</div>"
      ],
      "text/plain": [
       "    SEASON  PLAYER_ID FIRST_NAME  LAST_NAME  PLAYER_NAME POSITION  \\\n",
       "0     2023     100000    Player1          1    Player1 1       PG   \n",
       "1     2023     200000    Player2          2    Player2 2       PG   \n",
       "2     2023     100000    Player3          3    Player3 3       SG   \n",
       "3     2023     300000    Player4          4    Player4 4       SG   \n",
       "4     2023     400000    Player5          5    Player5 5       SF   \n",
       "5     2023     500000    Player6          6    Player6 6       SF   \n",
       "6     2023     600000    Player7          7    Player7 7       PF   \n",
       "7     2023     700000    Player8          8    Player8 8       PF   \n",
       "8     2023     800000    Player9          9    Player9 9        C   \n",
       "9     2023     900000   Player10         10  Player10 10        C   \n",
       "10    2023    1000000   Player11         11  Player11 11       PG   \n",
       "11    2023    1100000   Player12         12  Player12 12        C   \n",
       "12    2023    1100000   Player13         13  Player13 13        C   \n",
       "\n",
       "    HEIGHT_W_SHOES  WEIGHT  WINGSPAN  STANDING_REACH  BODY_FAT_PCT  \\\n",
       "0               75     189        78            98.0           6.0   \n",
       "1               77     160        80           100.0           5.4   \n",
       "2               77     204        80           101.0           6.6   \n",
       "3               74     190        81            98.0           6.5   \n",
       "4               79     218        83           105.0           6.1   \n",
       "5               81     230        83           107.0           6.1   \n",
       "6               81     234        85           107.0           7.8   \n",
       "7               83     210        90           110.0           7.8   \n",
       "8               83     247        89           109.5           7.8   \n",
       "9               81     250        89           109.5           8.0   \n",
       "10              80     189        82           108.0           6.0   \n",
       "11              77     247        87           104.0           8.0   \n",
       "12              77     235        89           100.0           6.9   \n",
       "\n",
       "    HAND_LENGTH  HAND_WIDTH  STANDING_VERTICAL_LEAP  MAX_VERTICAL_LEAP  \\\n",
       "0           8.5         9.4                    30.8               36.9   \n",
       "1           8.0         8.9                    33.0               41.0   \n",
       "2           8.9         9.4                    31.5               37.2   \n",
       "3           9.4        10.0                    32.0               37.0   \n",
       "4           8.8         9.2                    30.1               35.8   \n",
       "5           9.5        10.0                    30.0               35.5   \n",
       "6           9.1         9.7                    29.9               34.9   \n",
       "7           9.1         9.7                    30.0               35.0   \n",
       "8           9.4         9.9                    28.7               32.8   \n",
       "9           9.6        10.1                    27.0               31.0   \n",
       "10          8.5         9.4                    30.8               36.9   \n",
       "11          8.5         9.4                    25.0               27.0   \n",
       "12          8.9         9.4                    31.5               37.2   \n",
       "\n",
       "    LANE_AGILITY_TIME  College WS  \n",
       "0                11.1         NaN  \n",
       "1                10.0         NaN  \n",
       "2                11.1         NaN  \n",
       "3                11.9         NaN  \n",
       "4                11.4         NaN  \n",
       "5                11.4         NaN  \n",
       "6                11.4         NaN  \n",
       "7                11.2         NaN  \n",
       "8                11.7         NaN  \n",
       "9                12.0         NaN  \n",
       "10               10.5         NaN  \n",
       "11                9.9         NaN  \n",
       "12               11.1         NaN  "
      ]
     },
     "execution_count": 60,
     "metadata": {},
     "output_type": "execute_result"
    }
   ],
   "source": [
    "test_df.head(16)"
   ]
  },
  {
   "cell_type": "code",
   "execution_count": 61,
   "id": "ce84001b",
   "metadata": {},
   "outputs": [],
   "source": [
    "# Drop the College WS column as a new will be created \n",
    "test_df = test_df.drop('College WS', axis=1)"
   ]
  },
  {
   "cell_type": "code",
   "execution_count": 62,
   "id": "d56e989c",
   "metadata": {},
   "outputs": [],
   "source": [
    "# This model produced the lowest RMSE score seen earlier in the notebook ( Model 1 Linear Regression )\n",
    "# Using the Same features as well\n",
    "\n",
    "def get_linear_regression_final(X, y, test_df):\n",
    "    X_train, X_test, y_train, y_test = train_test_split(X, y, train_size=0.2, random_state=42)\n",
    "    lr = LinearRegression()\n",
    "    lr_fit_train_test = lr.fit(X_train, y_train)\n",
    "    \n",
    "    \n",
    "    lr_fit = lr.fit(X, y)\n",
    "    test_df = test_df[['HEIGHT_W_SHOES', 'WEIGHT', 'WINGSPAN', 'STANDING_REACH', 'BODY_FAT_PCT',\n",
    "       'HAND_LENGTH', 'HAND_WIDTH', 'STANDING_VERTICAL_LEAP',\n",
    "       'MAX_VERTICAL_LEAP', 'LANE_AGILITY_TIME']]\n",
    "    \n",
    "    var = pd.DataFrame(lr.predict(test_df))\n",
    "    return(pd.concat([test_df, var], axis=1))"
   ]
  },
  {
   "cell_type": "code",
   "execution_count": 63,
   "id": "b443f4b0",
   "metadata": {
    "scrolled": true
   },
   "outputs": [],
   "source": [
    "Deliverable = get_linear_regression_final(X, y, test_df)"
   ]
  },
  {
   "cell_type": "code",
   "execution_count": 64,
   "id": "8e98e10a",
   "metadata": {
    "scrolled": true
   },
   "outputs": [
    {
     "data": {
      "text/html": [
       "<div>\n",
       "<style scoped>\n",
       "    .dataframe tbody tr th:only-of-type {\n",
       "        vertical-align: middle;\n",
       "    }\n",
       "\n",
       "    .dataframe tbody tr th {\n",
       "        vertical-align: top;\n",
       "    }\n",
       "\n",
       "    .dataframe thead th {\n",
       "        text-align: right;\n",
       "    }\n",
       "</style>\n",
       "<table border=\"1\" class=\"dataframe\">\n",
       "  <thead>\n",
       "    <tr style=\"text-align: right;\">\n",
       "      <th></th>\n",
       "      <th>HEIGHT_W_SHOES</th>\n",
       "      <th>WEIGHT</th>\n",
       "      <th>WINGSPAN</th>\n",
       "      <th>STANDING_REACH</th>\n",
       "      <th>BODY_FAT_PCT</th>\n",
       "      <th>HAND_LENGTH</th>\n",
       "      <th>HAND_WIDTH</th>\n",
       "      <th>STANDING_VERTICAL_LEAP</th>\n",
       "      <th>MAX_VERTICAL_LEAP</th>\n",
       "      <th>LANE_AGILITY_TIME</th>\n",
       "      <th>0</th>\n",
       "    </tr>\n",
       "  </thead>\n",
       "  <tbody>\n",
       "    <tr>\n",
       "      <th>0</th>\n",
       "      <td>75</td>\n",
       "      <td>189</td>\n",
       "      <td>78</td>\n",
       "      <td>98.0</td>\n",
       "      <td>6.0</td>\n",
       "      <td>8.5</td>\n",
       "      <td>9.4</td>\n",
       "      <td>30.8</td>\n",
       "      <td>36.9</td>\n",
       "      <td>11.1</td>\n",
       "      <td>4.532662</td>\n",
       "    </tr>\n",
       "    <tr>\n",
       "      <th>1</th>\n",
       "      <td>77</td>\n",
       "      <td>160</td>\n",
       "      <td>80</td>\n",
       "      <td>100.0</td>\n",
       "      <td>5.4</td>\n",
       "      <td>8.0</td>\n",
       "      <td>8.9</td>\n",
       "      <td>33.0</td>\n",
       "      <td>41.0</td>\n",
       "      <td>10.0</td>\n",
       "      <td>4.229131</td>\n",
       "    </tr>\n",
       "    <tr>\n",
       "      <th>2</th>\n",
       "      <td>77</td>\n",
       "      <td>204</td>\n",
       "      <td>80</td>\n",
       "      <td>101.0</td>\n",
       "      <td>6.6</td>\n",
       "      <td>8.9</td>\n",
       "      <td>9.4</td>\n",
       "      <td>31.5</td>\n",
       "      <td>37.2</td>\n",
       "      <td>11.1</td>\n",
       "      <td>4.577730</td>\n",
       "    </tr>\n",
       "    <tr>\n",
       "      <th>3</th>\n",
       "      <td>74</td>\n",
       "      <td>190</td>\n",
       "      <td>81</td>\n",
       "      <td>98.0</td>\n",
       "      <td>6.5</td>\n",
       "      <td>9.4</td>\n",
       "      <td>10.0</td>\n",
       "      <td>32.0</td>\n",
       "      <td>37.0</td>\n",
       "      <td>11.9</td>\n",
       "      <td>4.087634</td>\n",
       "    </tr>\n",
       "    <tr>\n",
       "      <th>4</th>\n",
       "      <td>79</td>\n",
       "      <td>218</td>\n",
       "      <td>83</td>\n",
       "      <td>105.0</td>\n",
       "      <td>6.1</td>\n",
       "      <td>8.8</td>\n",
       "      <td>9.2</td>\n",
       "      <td>30.1</td>\n",
       "      <td>35.8</td>\n",
       "      <td>11.4</td>\n",
       "      <td>4.559291</td>\n",
       "    </tr>\n",
       "  </tbody>\n",
       "</table>\n",
       "</div>"
      ],
      "text/plain": [
       "   HEIGHT_W_SHOES  WEIGHT  WINGSPAN  STANDING_REACH  BODY_FAT_PCT  \\\n",
       "0              75     189        78            98.0           6.0   \n",
       "1              77     160        80           100.0           5.4   \n",
       "2              77     204        80           101.0           6.6   \n",
       "3              74     190        81            98.0           6.5   \n",
       "4              79     218        83           105.0           6.1   \n",
       "\n",
       "   HAND_LENGTH  HAND_WIDTH  STANDING_VERTICAL_LEAP  MAX_VERTICAL_LEAP  \\\n",
       "0          8.5         9.4                    30.8               36.9   \n",
       "1          8.0         8.9                    33.0               41.0   \n",
       "2          8.9         9.4                    31.5               37.2   \n",
       "3          9.4        10.0                    32.0               37.0   \n",
       "4          8.8         9.2                    30.1               35.8   \n",
       "\n",
       "   LANE_AGILITY_TIME         0  \n",
       "0               11.1  4.532662  \n",
       "1               10.0  4.229131  \n",
       "2               11.1  4.577730  \n",
       "3               11.9  4.087634  \n",
       "4               11.4  4.559291  "
      ]
     },
     "execution_count": 64,
     "metadata": {},
     "output_type": "execute_result"
    }
   ],
   "source": [
    "Deliverable.head()"
   ]
  },
  {
   "cell_type": "code",
   "execution_count": 65,
   "id": "ec3ac052",
   "metadata": {},
   "outputs": [],
   "source": [
    "# add back positions per player to see the changes per postition\n",
    "\n",
    "positions = ['PG', 'PG', 'SG', 'SG', 'SF', 'SF', 'PF', 'PF', 'C', 'C', 'PG', 'C', 'SG']"
   ]
  },
  {
   "cell_type": "code",
   "execution_count": 66,
   "id": "e6254034",
   "metadata": {},
   "outputs": [],
   "source": [
    "# Add Position column to dataframe\n",
    "\n",
    "Deliverable['POSITIONS'] = positions"
   ]
  },
  {
   "cell_type": "code",
   "execution_count": 67,
   "id": "f89d288e",
   "metadata": {},
   "outputs": [],
   "source": [
    "# change name of column from 0 to Predicted Win Share\n",
    "\n",
    "Deliverable.rename(columns={0: 'Predicted Win Share'}, inplace=True)"
   ]
  },
  {
   "cell_type": "code",
   "execution_count": 68,
   "id": "30a05fee",
   "metadata": {},
   "outputs": [
    {
     "data": {
      "text/html": [
       "<div>\n",
       "<style scoped>\n",
       "    .dataframe tbody tr th:only-of-type {\n",
       "        vertical-align: middle;\n",
       "    }\n",
       "\n",
       "    .dataframe tbody tr th {\n",
       "        vertical-align: top;\n",
       "    }\n",
       "\n",
       "    .dataframe thead th {\n",
       "        text-align: right;\n",
       "    }\n",
       "</style>\n",
       "<table border=\"1\" class=\"dataframe\">\n",
       "  <thead>\n",
       "    <tr style=\"text-align: right;\">\n",
       "      <th></th>\n",
       "      <th>HEIGHT_W_SHOES</th>\n",
       "      <th>WEIGHT</th>\n",
       "      <th>WINGSPAN</th>\n",
       "      <th>STANDING_REACH</th>\n",
       "      <th>BODY_FAT_PCT</th>\n",
       "      <th>HAND_LENGTH</th>\n",
       "      <th>HAND_WIDTH</th>\n",
       "      <th>STANDING_VERTICAL_LEAP</th>\n",
       "      <th>MAX_VERTICAL_LEAP</th>\n",
       "      <th>LANE_AGILITY_TIME</th>\n",
       "      <th>Predicted Win Share</th>\n",
       "      <th>POSITIONS</th>\n",
       "    </tr>\n",
       "  </thead>\n",
       "  <tbody>\n",
       "    <tr>\n",
       "      <th>0</th>\n",
       "      <td>75</td>\n",
       "      <td>189</td>\n",
       "      <td>78</td>\n",
       "      <td>98.0</td>\n",
       "      <td>6.0</td>\n",
       "      <td>8.5</td>\n",
       "      <td>9.4</td>\n",
       "      <td>30.8</td>\n",
       "      <td>36.9</td>\n",
       "      <td>11.1</td>\n",
       "      <td>4.532662</td>\n",
       "      <td>PG</td>\n",
       "    </tr>\n",
       "    <tr>\n",
       "      <th>1</th>\n",
       "      <td>77</td>\n",
       "      <td>160</td>\n",
       "      <td>80</td>\n",
       "      <td>100.0</td>\n",
       "      <td>5.4</td>\n",
       "      <td>8.0</td>\n",
       "      <td>8.9</td>\n",
       "      <td>33.0</td>\n",
       "      <td>41.0</td>\n",
       "      <td>10.0</td>\n",
       "      <td>4.229131</td>\n",
       "      <td>PG</td>\n",
       "    </tr>\n",
       "    <tr>\n",
       "      <th>2</th>\n",
       "      <td>77</td>\n",
       "      <td>204</td>\n",
       "      <td>80</td>\n",
       "      <td>101.0</td>\n",
       "      <td>6.6</td>\n",
       "      <td>8.9</td>\n",
       "      <td>9.4</td>\n",
       "      <td>31.5</td>\n",
       "      <td>37.2</td>\n",
       "      <td>11.1</td>\n",
       "      <td>4.577730</td>\n",
       "      <td>SG</td>\n",
       "    </tr>\n",
       "    <tr>\n",
       "      <th>3</th>\n",
       "      <td>74</td>\n",
       "      <td>190</td>\n",
       "      <td>81</td>\n",
       "      <td>98.0</td>\n",
       "      <td>6.5</td>\n",
       "      <td>9.4</td>\n",
       "      <td>10.0</td>\n",
       "      <td>32.0</td>\n",
       "      <td>37.0</td>\n",
       "      <td>11.9</td>\n",
       "      <td>4.087634</td>\n",
       "      <td>SG</td>\n",
       "    </tr>\n",
       "    <tr>\n",
       "      <th>4</th>\n",
       "      <td>79</td>\n",
       "      <td>218</td>\n",
       "      <td>83</td>\n",
       "      <td>105.0</td>\n",
       "      <td>6.1</td>\n",
       "      <td>8.8</td>\n",
       "      <td>9.2</td>\n",
       "      <td>30.1</td>\n",
       "      <td>35.8</td>\n",
       "      <td>11.4</td>\n",
       "      <td>4.559291</td>\n",
       "      <td>SF</td>\n",
       "    </tr>\n",
       "    <tr>\n",
       "      <th>5</th>\n",
       "      <td>81</td>\n",
       "      <td>230</td>\n",
       "      <td>83</td>\n",
       "      <td>107.0</td>\n",
       "      <td>6.1</td>\n",
       "      <td>9.5</td>\n",
       "      <td>10.0</td>\n",
       "      <td>30.0</td>\n",
       "      <td>35.5</td>\n",
       "      <td>11.4</td>\n",
       "      <td>4.676197</td>\n",
       "      <td>SF</td>\n",
       "    </tr>\n",
       "    <tr>\n",
       "      <th>6</th>\n",
       "      <td>81</td>\n",
       "      <td>234</td>\n",
       "      <td>85</td>\n",
       "      <td>107.0</td>\n",
       "      <td>7.8</td>\n",
       "      <td>9.1</td>\n",
       "      <td>9.7</td>\n",
       "      <td>29.9</td>\n",
       "      <td>34.9</td>\n",
       "      <td>11.4</td>\n",
       "      <td>4.577238</td>\n",
       "      <td>PF</td>\n",
       "    </tr>\n",
       "    <tr>\n",
       "      <th>7</th>\n",
       "      <td>83</td>\n",
       "      <td>210</td>\n",
       "      <td>90</td>\n",
       "      <td>110.0</td>\n",
       "      <td>7.8</td>\n",
       "      <td>9.1</td>\n",
       "      <td>9.7</td>\n",
       "      <td>30.0</td>\n",
       "      <td>35.0</td>\n",
       "      <td>11.2</td>\n",
       "      <td>4.010440</td>\n",
       "      <td>PF</td>\n",
       "    </tr>\n",
       "    <tr>\n",
       "      <th>8</th>\n",
       "      <td>83</td>\n",
       "      <td>247</td>\n",
       "      <td>89</td>\n",
       "      <td>109.5</td>\n",
       "      <td>7.8</td>\n",
       "      <td>9.4</td>\n",
       "      <td>9.9</td>\n",
       "      <td>28.7</td>\n",
       "      <td>32.8</td>\n",
       "      <td>11.7</td>\n",
       "      <td>4.535112</td>\n",
       "      <td>C</td>\n",
       "    </tr>\n",
       "    <tr>\n",
       "      <th>9</th>\n",
       "      <td>81</td>\n",
       "      <td>250</td>\n",
       "      <td>89</td>\n",
       "      <td>109.5</td>\n",
       "      <td>8.0</td>\n",
       "      <td>9.6</td>\n",
       "      <td>10.1</td>\n",
       "      <td>27.0</td>\n",
       "      <td>31.0</td>\n",
       "      <td>12.0</td>\n",
       "      <td>4.539271</td>\n",
       "      <td>C</td>\n",
       "    </tr>\n",
       "    <tr>\n",
       "      <th>10</th>\n",
       "      <td>80</td>\n",
       "      <td>189</td>\n",
       "      <td>82</td>\n",
       "      <td>108.0</td>\n",
       "      <td>6.0</td>\n",
       "      <td>8.5</td>\n",
       "      <td>9.4</td>\n",
       "      <td>30.8</td>\n",
       "      <td>36.9</td>\n",
       "      <td>10.5</td>\n",
       "      <td>4.408451</td>\n",
       "      <td>PG</td>\n",
       "    </tr>\n",
       "    <tr>\n",
       "      <th>11</th>\n",
       "      <td>77</td>\n",
       "      <td>247</td>\n",
       "      <td>87</td>\n",
       "      <td>104.0</td>\n",
       "      <td>8.0</td>\n",
       "      <td>8.5</td>\n",
       "      <td>9.4</td>\n",
       "      <td>25.0</td>\n",
       "      <td>27.0</td>\n",
       "      <td>9.9</td>\n",
       "      <td>5.847581</td>\n",
       "      <td>C</td>\n",
       "    </tr>\n",
       "    <tr>\n",
       "      <th>12</th>\n",
       "      <td>77</td>\n",
       "      <td>235</td>\n",
       "      <td>89</td>\n",
       "      <td>100.0</td>\n",
       "      <td>6.9</td>\n",
       "      <td>8.9</td>\n",
       "      <td>9.4</td>\n",
       "      <td>31.5</td>\n",
       "      <td>37.2</td>\n",
       "      <td>11.1</td>\n",
       "      <td>4.651049</td>\n",
       "      <td>SG</td>\n",
       "    </tr>\n",
       "  </tbody>\n",
       "</table>\n",
       "</div>"
      ],
      "text/plain": [
       "    HEIGHT_W_SHOES  WEIGHT  WINGSPAN  STANDING_REACH  BODY_FAT_PCT  \\\n",
       "0               75     189        78            98.0           6.0   \n",
       "1               77     160        80           100.0           5.4   \n",
       "2               77     204        80           101.0           6.6   \n",
       "3               74     190        81            98.0           6.5   \n",
       "4               79     218        83           105.0           6.1   \n",
       "5               81     230        83           107.0           6.1   \n",
       "6               81     234        85           107.0           7.8   \n",
       "7               83     210        90           110.0           7.8   \n",
       "8               83     247        89           109.5           7.8   \n",
       "9               81     250        89           109.5           8.0   \n",
       "10              80     189        82           108.0           6.0   \n",
       "11              77     247        87           104.0           8.0   \n",
       "12              77     235        89           100.0           6.9   \n",
       "\n",
       "    HAND_LENGTH  HAND_WIDTH  STANDING_VERTICAL_LEAP  MAX_VERTICAL_LEAP  \\\n",
       "0           8.5         9.4                    30.8               36.9   \n",
       "1           8.0         8.9                    33.0               41.0   \n",
       "2           8.9         9.4                    31.5               37.2   \n",
       "3           9.4        10.0                    32.0               37.0   \n",
       "4           8.8         9.2                    30.1               35.8   \n",
       "5           9.5        10.0                    30.0               35.5   \n",
       "6           9.1         9.7                    29.9               34.9   \n",
       "7           9.1         9.7                    30.0               35.0   \n",
       "8           9.4         9.9                    28.7               32.8   \n",
       "9           9.6        10.1                    27.0               31.0   \n",
       "10          8.5         9.4                    30.8               36.9   \n",
       "11          8.5         9.4                    25.0               27.0   \n",
       "12          8.9         9.4                    31.5               37.2   \n",
       "\n",
       "    LANE_AGILITY_TIME  Predicted Win Share POSITIONS  \n",
       "0                11.1             4.532662        PG  \n",
       "1                10.0             4.229131        PG  \n",
       "2                11.1             4.577730        SG  \n",
       "3                11.9             4.087634        SG  \n",
       "4                11.4             4.559291        SF  \n",
       "5                11.4             4.676197        SF  \n",
       "6                11.4             4.577238        PF  \n",
       "7                11.2             4.010440        PF  \n",
       "8                11.7             4.535112         C  \n",
       "9                12.0             4.539271         C  \n",
       "10               10.5             4.408451        PG  \n",
       "11                9.9             5.847581         C  \n",
       "12               11.1             4.651049        SG  "
      ]
     },
     "execution_count": 68,
     "metadata": {},
     "output_type": "execute_result"
    }
   ],
   "source": [
    "Deliverable.head(15)"
   ]
  },
  {
   "cell_type": "markdown",
   "id": "87353728",
   "metadata": {},
   "source": [
    "The above dataframe shows the predicted Win Share per created player based off their altered Combine stats.  This shows how \n",
    "valuable each column is and how it can alter their Win Share.  "
   ]
  },
  {
   "cell_type": "markdown",
   "id": "a9061363",
   "metadata": {},
   "source": [
    "## Exceutive Summary"
   ]
  },
  {
   "cell_type": "markdown",
   "id": "bd647e8b",
   "metadata": {},
   "source": [
    "This project showed the importance of each event at the NBA Combine and how it can affect a player's win share.  Out of all \n",
    "the models I ran (linear regression, ridge regression, lasso regression, decision tree, and random forest) linear regression\n",
    "produced the lowest RMSE.  After creating fake players and running it through the optimal model I can predict the potential \n",
    "value of a player using Win Share as the metric.  These Results showed:\n",
    "\n",
    "    a.) Features such as Wingspan, Weight are some of the most important columns that can affect the potential of a player\n",
    "    b.) Features such as Height, Vertical, Lane Agility are somewhat useful predictors\n",
    "    c.) The rest of the features: hand size, body fat pct, and standing reach are not helpful predictors.\n",
    "    \n",
    "This project allowed me to see the importance of each event in the NBA Combine.  Besides showing the importance of each \n",
    "even in the NBA Combine, it can also be used as a way to measure the value of a player for both college and NBA teams.\n",
    "This tool can help basketball scouts \"size\" up players and give a legitmate metric value.  This can help teams see the \n",
    "potential in a player purely based off physical traits(vertical, speed, height, weight etc.)  Based off this model it also \n",
    "shows the value per position and altered NBA Combine stats could be helpful.  For example:\n",
    "\n",
    "    a.) Player 11  shows that a Center who has is smaller, less vertical, and reach, but who is extra big and long\n",
    "    wingspan, can produce a higher Win Share compared to other centers.\n",
    "    \n",
    "Overall, this model can give more insight and better data on basketball players given their NBA combine data.  The Predicted Win Share column shows that for players 0-9 do not differ greatly.  This shows that overall the features I used did not show a great difference.  However, with the highly altered player, it shows that certain players with extreme traits in certain physical traits(Weight, Agility, Wingspan) could produce a higher win share.\n",
    "\n",
    "Basketball growing and becoming a bigger business in the NBA and college.  This insight can help give the edge for \n",
    "any basketball team trying to win more."
   ]
  },
  {
   "cell_type": "code",
   "execution_count": 69,
   "id": "0dbac482",
   "metadata": {},
   "outputs": [],
   "source": [
    "# Save Results\n",
    "\n",
    "Deliverable.to_csv('./data/Result_Data.csv')"
   ]
  }
 ],
 "metadata": {
  "kernelspec": {
   "display_name": "Python 3 (ipykernel)",
   "language": "python",
   "name": "python3"
  },
  "language_info": {
   "codemirror_mode": {
    "name": "ipython",
    "version": 3
   },
   "file_extension": ".py",
   "mimetype": "text/x-python",
   "name": "python",
   "nbconvert_exporter": "python",
   "pygments_lexer": "ipython3",
   "version": "3.9.13"
  }
 },
 "nbformat": 4,
 "nbformat_minor": 5
}
